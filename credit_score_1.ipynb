{
 "cells": [
  {
   "cell_type": "code",
   "execution_count": null,
   "id": "future-manner",
   "metadata": {},
   "outputs": [],
   "source": [
    "# Load required libraries\n",
    "import pandas as pd\n",
    "import numpy as np\n",
    "import matplotlib.pyplot as plt\n",
    "import seaborn as sns"
   ]
  },
  {
   "cell_type": "code",
   "execution_count": null,
   "id": "bronze-recall",
   "metadata": {},
   "outputs": [],
   "source": [
    "# Load 2 data sets\n",
    "app_rec = pd.read_csv(r'C:\\Users\\shaha\\OneDrive\\Documents\\credit_score\\application_record.csv')\n",
    "\n",
    "cre_rec = pd.read_csv(r'C:\\Users\\shaha\\OneDrive\\Documents\\credit_score\\credit_record.csv')"
   ]
  },
  {
   "cell_type": "markdown",
   "id": "a9b6cd37",
   "metadata": {},
   "source": [
    "# Data Exploration"
   ]
  },
  {
   "cell_type": "code",
   "execution_count": null,
   "id": "young-device",
   "metadata": {},
   "outputs": [],
   "source": [
    "# Check the size of each data set\n",
    "print(app_rec.shape)\n",
    "print(cre_rec.shape)"
   ]
  },
  {
   "cell_type": "code",
   "execution_count": null,
   "id": "compatible-housing",
   "metadata": {
    "scrolled": false
   },
   "outputs": [],
   "source": [
    "# To Evaluate Columns' Name:\n",
    "app_rec.columns.to_list()"
   ]
  },
  {
   "cell_type": "code",
   "execution_count": null,
   "id": "complimentary-brazil",
   "metadata": {
    "scrolled": true
   },
   "outputs": [],
   "source": [
    "# To Evaluate Data Type and Size:\n",
    "app_rec.info()"
   ]
  },
  {
   "cell_type": "raw",
   "id": "c34e50ea",
   "metadata": {},
   "source": [
    "Notes:\n",
    "1) ID is int64 and should be changed to object format. (see the Data Cleaning)\n",
    "2) FLAG_Mobile, FLAG_WORK_PHONE, FLAG_PHONE, FLAG_EMAIL should be changed to Object format.\n",
    "    2.a Final decision: Since we have just 0 and 1 in 'FLAG_MOBIL', 'FLAG_WORK_PHONE', 'FLAG_PHONE', 'FLAG_EMAIL columns, we can stay with 0/1 int64 data type.\n",
    "3) We have missing values for OCCUPATION_TYPE."
   ]
  },
  {
   "cell_type": "code",
   "execution_count": null,
   "id": "statistical-affair",
   "metadata": {},
   "outputs": [],
   "source": [
    "# Print first few raws of data and check them visually:\n",
    "app_rec.head(3)"
   ]
  },
  {
   "cell_type": "code",
   "execution_count": null,
   "id": "proud-family",
   "metadata": {},
   "outputs": [],
   "source": [
    "# Create code for fields with object data type:\n",
    "   # 'NAME_INCOME_TYPE',  'NAME_EDUCATION_TYPE',  'NAME_FAMILY_STATUS',  'NAME_HOUSING_TYPE'\n",
    "\n",
    "print(app_rec.NAME_INCOME_TYPE.unique())\n",
    "print(app_rec.NAME_EDUCATION_TYPE.unique())\n",
    "print(app_rec.NAME_FAMILY_STATUS.unique())\n",
    "print(app_rec.NAME_HOUSING_TYPE.unique())\n",
    "\n",
    "# Create a for loop for visualization of frequency of items in each aforementioned columns\n",
    "for var in ['NAME_EDUCATION_TYPE', 'NAME_INCOME_TYPE',   'NAME_FAMILY_STATUS',  'NAME_HOUSING_TYPE']:\n",
    "    # countplt, ax = plt.subplots(figsize = (10,7))\n",
    "    plt.rcParams[\"figure.figsize\"] = [8, 5]\n",
    "    plt.rcParams[\"figure.autolayout\"] = True\n",
    "    ax = sns.countplot(x =var, data = app_rec)\n",
    "    ax.set_title(var,fontsize = 18, fontweight='bold' )\n",
    "    ax.bar_label(ax.containers[0])\n",
    "    ax.set_xlabel(var, fontsize = 15)\n",
    "    ax.set_ylabel('count', fontsize = 15)\n",
    "    plt.show()"
   ]
  },
  {
   "cell_type": "code",
   "execution_count": null,
   "id": "d13e688e",
   "metadata": {},
   "outputs": [],
   "source": [
    "# It Seems we have imbalanced data. What will be the next step to address this situation and avoid consequential issues? Question from Saeed: What should I do in this situation?"
   ]
  },
  {
   "cell_type": "code",
   "execution_count": null,
   "id": "resistant-jerusalem",
   "metadata": {},
   "outputs": [],
   "source": [
    "#Check the Numeric fields\n",
    "app_rec.describe().T"
   ]
  },
  {
   "cell_type": "code",
   "execution_count": null,
   "id": "5b721899",
   "metadata": {},
   "outputs": [],
   "source": [
    "for var in ['CNT_CHILDREN']:  # It doenot have so much variables range!\n",
    "    # countplt, ax = plt.subplots(figsize = (10,7))\n",
    "    plt.rcParams[\"figure.figsize\"] = [10, 7]\n",
    "    plt.rcParams[\"figure.autolayout\"] = True\n",
    "    ax =  sns.countplot(x=var, data = app_rec)\n",
    "    ax.set_title(var,fontsize = 18, fontweight='bold' )\n",
    "    ax.bar_label(ax.containers[0])\n",
    "    ax.set_xlabel(var, fontsize = 15)\n",
    "    ax.set_ylabel('count', fontsize = 15)\n",
    "    plt.show()\n",
    "\n",
    "# My Graphs does not work correctly. Question from Saee: WHat I should do for th barplot?"
   ]
  },
  {
   "cell_type": "code",
   "execution_count": null,
   "id": "3583afce",
   "metadata": {},
   "outputs": [],
   "source": [
    "for var in ['AMT_INCOME_TOTAL',  'DAYS_EMPLOYED']:    # We have a wide range of variables in these columns!\n",
    "    # countplt, ax = plt.subplots(figsize = (10,7))\n",
    "    plt.rcParams[\"figure.figsize\"] = [10, 7]\n",
    "    plt.rcParams[\"figure.autolayout\"] = True\n",
    "    ax.set(yscale=\"log\")\n",
    "    ax =  sns.boxplot(app_rec[var])\n",
    "    # ax.set(yscale=\"log\")\n",
    "    ax.set_title(var,fontsize = 18, fontweight='bold' )\n",
    "    # ax.bar_label(ax.containers[0])\n",
    "    ax.set_xlabel(var, fontsize = 15)\n",
    "    ax.set_ylabel('count', fontsize = 15)\n",
    "    plt.show();"
   ]
  },
  {
   "cell_type": "raw",
   "id": "b836ec51",
   "metadata": {},
   "source": [
    "# Helpful field specification from Kaggle for DAYS_EMPLOYED:  Count backwards from current day(0). If positive, it means the person currently unemployed."
   ]
  },
  {
   "cell_type": "raw",
   "id": "02370275",
   "metadata": {},
   "source": [
    "For DAYS_EMPLOYED, positive value which is 365K means \"Unemployed. when we can replace any positive value with 0 to have a balance field. See the Cleanining part.\n",
    "We have a wite range of Amount Income Total. We will make decision for it in Cleaning part."
   ]
  },
  {
   "cell_type": "raw",
   "id": "3712d62d",
   "metadata": {},
   "source": [
    "# Visualize the data range in \"AMT_INCOME_TOTAL\":\n",
    "app_rec.AMT_INCOME_TOTAL.plot.box(figsize=(4, 8),widths=(0.5), showfliers=True, patch_artist = False)\n",
    "\n",
    "# How can I improve the quality of the graph?"
   ]
  },
  {
   "cell_type": "code",
   "execution_count": null,
   "id": "geographic-treatment",
   "metadata": {},
   "outputs": [],
   "source": [
    "#Check Dublicate rows\n",
    "app_rec.duplicated().sum()"
   ]
  },
  {
   "cell_type": "markdown",
   "id": "324959d5",
   "metadata": {},
   "source": [
    "We do not have any dublicated rows. However, we have dublicated IDs:"
   ]
  },
  {
   "cell_type": "code",
   "execution_count": null,
   "id": "measured-empire",
   "metadata": {},
   "outputs": [],
   "source": [
    "app_rec.ID.duplicated().sum()"
   ]
  },
  {
   "cell_type": "code",
   "execution_count": null,
   "id": "89e39a4b",
   "metadata": {},
   "outputs": [],
   "source": [
    "app_rec_dup_ID = app_rec[app_rec['ID'].duplicated(keep=False) == True].sort_values(by=['ID']).reset_index(drop=True)\n",
    "app_rec_dup_ID"
   ]
  },
  {
   "cell_type": "markdown",
   "id": "07bc11db",
   "metadata": {},
   "source": [
    "Due to the sensitivity of the dublication in ID, as a key, I decided to drop all rows with dublicated IDs.(please see the Cleaning part)"
   ]
  },
  {
   "cell_type": "code",
   "execution_count": null,
   "id": "f5095180",
   "metadata": {},
   "outputs": [],
   "source": [
    "#check Missing Values\n",
    "app_rec.isnull().sum()"
   ]
  },
  {
   "cell_type": "code",
   "execution_count": null,
   "id": "bc780287",
   "metadata": {},
   "outputs": [],
   "source": [
    "# Check the OCCUPATION_Type:\n",
    "\n",
    "# print(\"Number of Missing Values:\", app_rec.OCCUPATION_TYPE.isnull().sum())\n",
    "# app_rec.OCCUPATION_TYPE.value_counts()\n",
    "\n",
    "app_rec.OCCUPATION_TYPE.value_counts(dropna = False)  # The same as above but much more efficient!\n"
   ]
  },
  {
   "cell_type": "raw",
   "id": "5554373f",
   "metadata": {},
   "source": [
    "# Note: We have null value for Occupation type. We need to fill it with \"Other\" in the cleaning part."
   ]
  },
  {
   "cell_type": "markdown",
   "id": "72c8baa9",
   "metadata": {},
   "source": [
    "# Data Cleaning"
   ]
  },
  {
   "cell_type": "code",
   "execution_count": null,
   "id": "20737f3d",
   "metadata": {},
   "outputs": [],
   "source": [
    "# Change the data type of the 'ID' to string data type:\n",
    "columns = ['ID']#,'FLAG_MOBIL', 'FLAG_WORK_PHONE', 'FLAG_PHONE', 'FLAG_EMAIL']\n",
    "for column in columns:\n",
    "    app_rec[column] = app_rec[column].astype(str)\n",
    "    \n",
    "print(app_rec[\"ID\"].dtypes)"
   ]
  },
  {
   "cell_type": "markdown",
   "id": "cdc3a40a",
   "metadata": {},
   "source": [
    "Note: It seems we have some Outliers in \"AMT_INCOME_TOTAL\". We need to do more research on it."
   ]
  },
  {
   "cell_type": "code",
   "execution_count": null,
   "id": "6e28f9f3",
   "metadata": {},
   "outputs": [],
   "source": [
    "# we have outliers in AMT_INCOME_TOTAL. We have 2 choices, either remove the outliers or creat buckets for values based on the 8 percentile groups. \n",
    "# The second option was selected and finally applied the one hot encoding to the buckets:\n",
    "app_rec['AMT_INCOME_TOTAL_BUKET'], cut_bin = pd.qcut(app_rec['AMT_INCOME_TOTAL'], q = 8, labels = ['1','2','3','4','5','6','7','8'], retbins = True)\n",
    "app_rec[['AMT_INCOME_TOTAL','AMT_INCOME_TOTAL_BUKET']]\n",
    "# app_rec = pd.get_dummies(data=app_rec, columns=['AMT_INCOME_TOTAL_BUKET'])  # Do it later on in cleaning!"
   ]
  },
  {
   "cell_type": "code",
   "execution_count": null,
   "id": "caeae05e",
   "metadata": {},
   "outputs": [],
   "source": [
    "# We can assign \"Other\" for null values. \n",
    "app_rec[\"OCCUPATION_TYPE\"].fillna(\"Other\", inplace = True)"
   ]
  },
  {
   "cell_type": "code",
   "execution_count": null,
   "id": "7c2117a8",
   "metadata": {},
   "outputs": [],
   "source": [
    "#Remove the duplicates values for IDs:\n",
    "app_rec = app_rec.drop_duplicates(subset=['ID']).reset_index()"
   ]
  },
  {
   "cell_type": "code",
   "execution_count": null,
   "id": "d3eb0a7b",
   "metadata": {},
   "outputs": [],
   "source": [
    "# Replace any positive value of DAYS_EMPLOYED with 0:\n",
    "app_rec['DAYS_EMPLOYED'] = app_rec['DAYS_EMPLOYED'].apply(lambda x: 0 if x > 0 else x)"
   ]
  },
  {
   "cell_type": "code",
   "execution_count": null,
   "id": "5db27443",
   "metadata": {},
   "outputs": [],
   "source": [
    "app_rec.shape"
   ]
  },
  {
   "cell_type": "markdown",
   "id": "fbf7e2cf",
   "metadata": {},
   "source": [
    "# Feature Engineering"
   ]
  },
  {
   "cell_type": "code",
   "execution_count": null,
   "id": "manufactured-group",
   "metadata": {},
   "outputs": [],
   "source": [
    "# Create month_employed from DAYS_EMPLOYED.\n",
    "app_rec[\"MONTH_EMPLOYED\"] = app_rec[\"DAYS_EMPLOYED\"] /30\n",
    "app_rec[\"MONTH_EMPLOYED\"]  = app_rec[\"MONTH_EMPLOYED\"].apply(np.ceil)\n",
    "app_rec[[\"MONTH_EMPLOYED\",\"DAYS_EMPLOYED\"] ]"
   ]
  },
  {
   "cell_type": "code",
   "execution_count": null,
   "id": "structural-pocket",
   "metadata": {},
   "outputs": [],
   "source": [
    "# Create an employement flag fom DAYS_EMPLOYED.\n",
    "# app_rec['FLAG_EMPLOYED2'] = app_rec['DAYS_EMPLOYED'].apply(lambda x: 1 if x > 0 else 0).astype(str)\n",
    "\n",
    "# New: Bolean based on a condition instrad of code incell ablove.\n",
    "app_rec[\"FLAG_EMPLOYED\"] = app_rec['DAYS_EMPLOYED'] < 0 \n",
    "app_rec.head(10)"
   ]
  },
  {
   "cell_type": "code",
   "execution_count": null,
   "id": "interracial-gardening",
   "metadata": {},
   "outputs": [],
   "source": [
    "# Create Age based on DAYS_BIRTH.\n",
    "app_rec['AGE'] = (app_rec['DAYS_BIRTH']/365).abs().apply(np.floor)\n",
    "app_rec.hist(column='AGE');"
   ]
  },
  {
   "cell_type": "code",
   "execution_count": null,
   "id": "d58b5c1a",
   "metadata": {},
   "outputs": [],
   "source": [
    "# Create 8 different bucket of Ages\n",
    "bins = [0, 20, 25,30,45,55,60, 65, 70]\n",
    "labels = [1,2,3,4,5,6,7,8]\n",
    "app_rec['AGE_BUKET'] = pd.cut(app_rec['AGE'], bins,labels=labels)\n",
    "app_rec['AGE_BUKET']"
   ]
  },
  {
   "cell_type": "code",
   "execution_count": null,
   "id": "typical-pennsylvania",
   "metadata": {},
   "outputs": [],
   "source": [
    "# Create Count of Children bucket based on CNT_CHILDREN\n",
    "app_rec.CNT_CHILDREN.value_counts()"
   ]
  },
  {
   "cell_type": "code",
   "execution_count": null,
   "id": "0e585325",
   "metadata": {},
   "outputs": [],
   "source": [
    "# Use OneHot_encoding to create binary values for 4 different fiels (see the above cell):\n",
    "app_rec = pd.get_dummies(data=app_rec, columns=['NAME_INCOME_TYPE','NAME_EDUCATION_TYPE','NAME_FAMILY_STATUS','NAME_HOUSING_TYPE'])#.astype(str)"
   ]
  },
  {
   "cell_type": "code",
   "execution_count": null,
   "id": "33fee4e6",
   "metadata": {},
   "outputs": [],
   "source": [
    "# # should be changed to number\n",
    "# app_rec.CNT_CHILDREN_BUCKET = app_rec.CNT_CHILDREN\n",
    "# def conditions(i): \n",
    "#     if i ==0 : return '0'\n",
    "#     if i ==1 : return \"1\"\n",
    "#     if i ==2 : return '2'\n",
    "#     if i ==3 : return '3'\n",
    "#     if i ==4 : return '4'\n",
    "#     if i >= 5: return '5'\n",
    "\n",
    "# app_rec['CNT_CHILDREN_BUCKET']=app_rec['CNT_CHILDREN'].apply(conditions)\n"
   ]
  },
  {
   "cell_type": "markdown",
   "id": "miniature-wings",
   "metadata": {},
   "source": [
    "# B - cre_rec Data Cleaning & Transforming"
   ]
  },
  {
   "cell_type": "code",
   "execution_count": null,
   "id": "liberal-anthropology",
   "metadata": {},
   "outputs": [],
   "source": [
    "print(\"Name of the columns:\" ,cre_rec.columns)\n",
    "print(cre_rec.shape)"
   ]
  },
  {
   "cell_type": "code",
   "execution_count": null,
   "id": "6b9b66de",
   "metadata": {},
   "outputs": [],
   "source": [
    "cre_rec.STATUS.unique()\n",
    "# 0: 1-29 days past due \n",
    "# 1: 30-59 days past due \n",
    "# 2: 60-89 days overdue \n",
    "# 3: 90-119 days overdue \n",
    "# 4: 120-149 days overdue \n",
    "# 5: Overdue or bad debts, write-offs for more than 150 days \n",
    "# C: paid off that month \n",
    "# X: No loan for the month"
   ]
  },
  {
   "cell_type": "code",
   "execution_count": null,
   "id": "3856b752",
   "metadata": {},
   "outputs": [],
   "source": [
    "gouped_id = cre_rec.groupby('ID')\n",
    "pivot_tb = cre_rec.pivot(index=\"ID\", columns='MONTHS_BALANCE', values= 'STATUS')\n",
    "pivot_tb[\"Open_Month\"] = gouped_id[\"MONTHS_BALANCE\"].min()\n",
    "pivot_tb['End_Month'] = gouped_id['MONTHS_BALANCE'].max()\n",
    "pivot_tb['ID'] = pivot_tb.index\n",
    "pivot_tb = pivot_tb[[\"ID\",\"Open_Month\",\"End_Month\"]]\n",
    "pivot_tb[\"window\"] = pivot_tb[\"End_Month\"] - pivot_tb[\"Open_Month\"]\n",
    "pivot_tb.reset_index(drop = True, inplace = True)\n",
    "\n",
    "credit = pd.merge(cre_rec, pivot_tb, on = 'ID', how = 'left')"
   ]
  },
  {
   "cell_type": "code",
   "execution_count": null,
   "id": "5cbb3a02",
   "metadata": {},
   "outputs": [],
   "source": [
    "pivot_tb"
   ]
  },
  {
   "cell_type": "code",
   "execution_count": null,
   "id": "54a56384",
   "metadata": {},
   "outputs": [],
   "source": [
    "credit = credit[credit['window'] > 20]\n",
    "\n",
    "credit['status'] = np.where((credit['STATUS'] == '2') | (credit['STATUS'] == '3' )| (credit['STATUS'] == '4' )| (credit['STATUS'] == '5'), 1, 0) # analyze > 60 days past due \n",
    "\n",
    "credit['status'] = credit['status'].astype(np.int8)\n",
    "\n",
    "credit['month_on_book'] = credit['MONTHS_BALANCE'] - credit['Open_Month'] # calculate month on book: how many months after opening account\n",
    "\n",
    "credit.sort_values(by = ['ID','month_on_book'], inplace = True)\n",
    "\n",
    "####\n",
    "denominator = pivot_tb.groupby([\"Open_Month\"]).agg({\"ID\":['count']})\n",
    "denominator.reset_index(inplace=True)\n",
    "denominator.columns = ['open_month','sta_sum']"
   ]
  },
  {
   "cell_type": "code",
   "execution_count": null,
   "id": "bf84ef8f",
   "metadata": {},
   "outputs": [],
   "source": [
    "vintage = credit.groupby(['Open_Month','month_on_book']).agg({'ID': ['count']}) \n",
    "vintage.reset_index(inplace = True)\n",
    "vintage.columns = ['open_month','month_on_book','sta_sum'] \n",
    "vintage['due_count'] = np.nan\n",
    "vintage = vintage[['open_month','month_on_book','due_count']] # delete aggerate column\n",
    "vintage = pd.merge(vintage, denominator, on = ['open_month'], how = 'left') # join sta_sum colun to vintage table\n",
    "vintage"
   ]
  },
  {
   "cell_type": "code",
   "execution_count": null,
   "id": "0264152d",
   "metadata": {},
   "outputs": [],
   "source": [
    "credit[credit[\"status\"]==1]"
   ]
  },
  {
   "cell_type": "code",
   "execution_count": null,
   "id": "f148f63d",
   "metadata": {},
   "outputs": [],
   "source": [
    "for j in range(-60,1):\n",
    "    ls = []\n",
    "    for i in range(0,60):\n",
    "        due = list(credit[(credit[\"status\"]==1) & (credit[\"month_on_book\"]==i) & (credit[\"Open_Month\"]==j)][\"ID\"])\n",
    "        ls.extend(due)\n",
    "        vintage.loc[(vintage['month_on_book']==i) & (vintage['open_month']==j), \"due_account\"] = len(set(ls))"
   ]
  },
  {
   "cell_type": "code",
   "execution_count": null,
   "id": "6801f7d2",
   "metadata": {},
   "outputs": [],
   "source": [
    "vintage"
   ]
  },
  {
   "cell_type": "code",
   "execution_count": null,
   "id": "eb2b3f59",
   "metadata": {},
   "outputs": [],
   "source": []
  },
  {
   "cell_type": "code",
   "execution_count": null,
   "id": "7c1ee485",
   "metadata": {},
   "outputs": [],
   "source": []
  },
  {
   "cell_type": "code",
   "execution_count": null,
   "id": "d8890d5b",
   "metadata": {},
   "outputs": [],
   "source": []
  },
  {
   "cell_type": "code",
   "execution_count": null,
   "id": "ef964d51",
   "metadata": {},
   "outputs": [],
   "source": []
  },
  {
   "cell_type": "code",
   "execution_count": null,
   "id": "ambient-scratch",
   "metadata": {},
   "outputs": [],
   "source": [
    "cre_rec.sort_values([\"ID\",\"MONTHS_BALANCE\"],ascending=False,    inplace=False).head(10).set_index('ID')"
   ]
  },
  {
   "cell_type": "code",
   "execution_count": null,
   "id": "treated-suite",
   "metadata": {},
   "outputs": [],
   "source": [
    "#Transpose the credit record "
   ]
  },
  {
   "cell_type": "code",
   "execution_count": null,
   "id": "839e6dad",
   "metadata": {},
   "outputs": [],
   "source": [
    "cre_rec = pd.DataFrame(cre_rec.groupby([\"ID\",\"STATUS\"])[\"STATUS\"].count()).rename(columns={'STATUS': 'Freq'}).reset_index()"
   ]
  },
  {
   "cell_type": "code",
   "execution_count": null,
   "id": "4eb9a399",
   "metadata": {},
   "outputs": [],
   "source": [
    "cre_rec"
   ]
  },
  {
   "cell_type": "code",
   "execution_count": null,
   "id": "secure-drill",
   "metadata": {},
   "outputs": [],
   "source": [
    "cre_rec.pivot(index=\"ID\", columns='MONTHS_BALANCE', values= 'STATUS')"
   ]
  },
  {
   "cell_type": "code",
   "execution_count": null,
   "id": "99dd6ac1",
   "metadata": {},
   "outputs": [],
   "source": [
    "cre_rec.loc[cre_rec[\"ID\"]==5001711]"
   ]
  },
  {
   "cell_type": "code",
   "execution_count": null,
   "id": "banned-companion",
   "metadata": {},
   "outputs": [],
   "source": [
    "cre_rec.groupby(by=[\"ID\"])"
   ]
  },
  {
   "cell_type": "code",
   "execution_count": null,
   "id": "comic-canyon",
   "metadata": {},
   "outputs": [],
   "source": [
    "cre_rec.ID.duplicated().count()"
   ]
  },
  {
   "cell_type": "code",
   "execution_count": null,
   "id": "adapted-liberal",
   "metadata": {},
   "outputs": [],
   "source": [
    "cre_rec.shape"
   ]
  },
  {
   "cell_type": "code",
   "execution_count": null,
   "id": "synthetic-equality",
   "metadata": {
    "scrolled": true
   },
   "outputs": [],
   "source": [
    "cre_rec.STATUS.value_counts()"
   ]
  },
  {
   "cell_type": "markdown",
   "id": "disabled-stage",
   "metadata": {},
   "source": [
    "# C - Merge the Data Sets"
   ]
  },
  {
   "cell_type": "code",
   "execution_count": null,
   "id": "ultimate-british",
   "metadata": {},
   "outputs": [],
   "source": [
    "data = pd.merge(app_rec,cre_rec)"
   ]
  },
  {
   "cell_type": "code",
   "execution_count": null,
   "id": "passing-technician",
   "metadata": {},
   "outputs": [],
   "source": [
    "data"
   ]
  },
  {
   "cell_type": "code",
   "execution_count": null,
   "id": "protective-private",
   "metadata": {},
   "outputs": [],
   "source": [
    "# Merge 2 datasets based on the id"
   ]
  },
  {
   "cell_type": "code",
   "execution_count": null,
   "id": "nonprofit-radical",
   "metadata": {},
   "outputs": [],
   "source": [
    "#Save the Cleaned Data"
   ]
  },
  {
   "cell_type": "markdown",
   "id": "blessed-premiere",
   "metadata": {},
   "source": [
    "# D - Model Development"
   ]
  },
  {
   "cell_type": "code",
   "execution_count": null,
   "id": "sunset-bulgarian",
   "metadata": {},
   "outputs": [],
   "source": [
    "# Reload the Cleaned Data"
   ]
  },
  {
   "cell_type": "code",
   "execution_count": null,
   "id": "attempted-september",
   "metadata": {},
   "outputs": [],
   "source": [
    "#Reload the Cleaned Data"
   ]
  },
  {
   "cell_type": "code",
   "execution_count": null,
   "id": "institutional-cycle",
   "metadata": {},
   "outputs": [],
   "source": [
    "#Load Required librarys\n",
    "import sklearn "
   ]
  },
  {
   "cell_type": "code",
   "execution_count": null,
   "id": "reflected-honey",
   "metadata": {},
   "outputs": [],
   "source": [
    "#train model 1"
   ]
  },
  {
   "cell_type": "code",
   "execution_count": null,
   "id": "caring-copper",
   "metadata": {},
   "outputs": [],
   "source": [
    "#Test model 1"
   ]
  },
  {
   "cell_type": "code",
   "execution_count": null,
   "id": "adapted-transfer",
   "metadata": {},
   "outputs": [],
   "source": [
    "#evaluate model 1"
   ]
  },
  {
   "cell_type": "code",
   "execution_count": null,
   "id": "final-vatican",
   "metadata": {},
   "outputs": [],
   "source": [
    "pwd"
   ]
  },
  {
   "cell_type": "code",
   "execution_count": null,
   "id": "collective-amber",
   "metadata": {},
   "outputs": [],
   "source": [
    "# test 2 for my project"
   ]
  },
  {
   "cell_type": "markdown",
   "id": "27ae3920",
   "metadata": {},
   "source": [
    "Misc"
   ]
  },
  {
   "cell_type": "code",
   "execution_count": null,
   "id": "fd9fe4e8",
   "metadata": {},
   "outputs": [],
   "source": [
    "# sns.set_style(\"whitegrid\")\n",
    "sns.set(rc={\"figure.figsize\":(10, 10)})\n",
    "sns.set_style(\"darkgrid\", {\"grid.color\": \".6\", \"grid.linestyle\": \":\"})\n",
    "ax = sns.boxplot( y=app_rec[\"AMT_INCOME_TOTAL\"] )\n",
    "ax.set(xlabel='Income', ylabel='Dollar Value')\n",
    "\n"
   ]
  }
 ],
 "metadata": {
  "kernelspec": {
   "display_name": "Python 3.10.5 64-bit (windows store)",
   "language": "python",
   "name": "python3"
  },
  "language_info": {
   "codemirror_mode": {
    "name": "ipython",
    "version": 3
   },
   "file_extension": ".py",
   "mimetype": "text/x-python",
   "name": "python",
   "nbconvert_exporter": "python",
   "pygments_lexer": "ipython3",
   "version": "3.10.6"
  },
  "vscode": {
   "interpreter": {
    "hash": "a9c4a9667516ab3510cdc69a21f03234607c83b7b3f032001b192581638fb31e"
   }
  }
 },
 "nbformat": 4,
 "nbformat_minor": 5
}
