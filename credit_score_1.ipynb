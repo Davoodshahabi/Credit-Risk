{
 "cells": [
  {
   "cell_type": "code",
   "execution_count": null,
   "id": "future-manner",
   "metadata": {},
   "outputs": [],
   "source": [
    "# Load required libraries\n",
    "import pandas as pd\n",
    "import numpy\n",
    "import matplotlib.pyplot as plt\n",
    "import seaborn as sb"
   ]
  },
  {
   "cell_type": "code",
   "execution_count": null,
   "id": "bronze-recall",
   "metadata": {},
   "outputs": [],
   "source": [
    "# Load 2 data sets\n",
    "app_rec = pd.read_csv(r'C:\\Users\\shaha\\OneDrive\\Documents\\credit_score\\application_record.csv')\n",
    "\n",
    "cre_rec = pd.read_csv(r'C:\\Users\\shaha\\OneDrive\\Documents\\credit_score\\credit_record.csv')"
   ]
  },
  {
   "cell_type": "code",
   "execution_count": null,
   "id": "surgical-georgia",
   "metadata": {},
   "outputs": [],
   "source": [
    "# Check the size of each data set"
   ]
  },
  {
   "cell_type": "code",
   "execution_count": null,
   "id": "young-device",
   "metadata": {},
   "outputs": [],
   "source": [
    "print(app_rec.shape)\n",
    "print(cre_rec.shape)"
   ]
  },
  {
   "cell_type": "markdown",
   "id": "involved-gazette",
   "metadata": {},
   "source": [
    "# A - app_rec Data Cleaning"
   ]
  },
  {
   "cell_type": "code",
   "execution_count": null,
   "id": "compatible-housing",
   "metadata": {
    "scrolled": false
   },
   "outputs": [],
   "source": [
    "app_rec.columns"
   ]
  },
  {
   "cell_type": "code",
   "execution_count": null,
   "id": "statistical-affair",
   "metadata": {},
   "outputs": [],
   "source": [
    "app_rec.head()"
   ]
  },
  {
   "cell_type": "code",
   "execution_count": null,
   "id": "proud-family",
   "metadata": {},
   "outputs": [],
   "source": [
    "# Create code for 'NAME_INCOME_TYPE', 'NAME_EDUCATION_TYPE', 'NAME_FAMILY_STATUS', 'NAME_HOUSING_TYPE'\n",
    "# I may use a function to create numeric value for each category or use one hot encoding technique to process the data"
   ]
  },
  {
   "cell_type": "code",
   "execution_count": null,
   "id": "complimentary-brazil",
   "metadata": {
    "scrolled": true
   },
   "outputs": [],
   "source": [
    "app_rec.info()"
   ]
  },
  {
   "cell_type": "code",
   "execution_count": null,
   "id": "resistant-jerusalem",
   "metadata": {},
   "outputs": [],
   "source": [
    "#Check the Numeric fields\n",
    "app_rec.describe().T"
   ]
  },
  {
   "cell_type": "code",
   "execution_count": null,
   "id": "invalid-excerpt",
   "metadata": {},
   "outputs": [],
   "source": [
    "# Change the data type of the ID"
   ]
  },
  {
   "cell_type": "code",
   "execution_count": null,
   "id": "manufactured-group",
   "metadata": {},
   "outputs": [],
   "source": [
    "# Create moth_employed from DAYS_EMPLOYED."
   ]
  },
  {
   "cell_type": "code",
   "execution_count": null,
   "id": "structural-pocket",
   "metadata": {},
   "outputs": [],
   "source": [
    "# Create an employement flag fom DAYS_EMPLOYED."
   ]
  },
  {
   "cell_type": "code",
   "execution_count": null,
   "id": "interracial-gardening",
   "metadata": {},
   "outputs": [],
   "source": [
    "# Create Age bucket based on DAYS_BIRTH."
   ]
  },
  {
   "cell_type": "code",
   "execution_count": null,
   "id": "shared-glasgow",
   "metadata": {},
   "outputs": [],
   "source": [
    "# Create income bucket based on AMT_INCOME_TOTAL"
   ]
  },
  {
   "cell_type": "code",
   "execution_count": null,
   "id": "typical-pennsylvania",
   "metadata": {},
   "outputs": [],
   "source": [
    "# Create Count of Children bucket based on CNT_CHILDREN"
   ]
  },
  {
   "cell_type": "code",
   "execution_count": null,
   "id": "psychological-unemployment",
   "metadata": {
    "scrolled": true
   },
   "outputs": [],
   "source": [
    "app_rec.CNT_CHILDREN.value_counts()"
   ]
  },
  {
   "cell_type": "code",
   "execution_count": null,
   "id": "backed-experiment",
   "metadata": {},
   "outputs": [],
   "source": [
    "#check data type in each column and verify it"
   ]
  },
  {
   "cell_type": "code",
   "execution_count": null,
   "id": "conscious-apparatus",
   "metadata": {},
   "outputs": [],
   "source": [
    "#check Null Values"
   ]
  },
  {
   "cell_type": "code",
   "execution_count": null,
   "id": "geographic-treatment",
   "metadata": {},
   "outputs": [],
   "source": [
    "#Check Dublicate rows"
   ]
  },
  {
   "cell_type": "code",
   "execution_count": null,
   "id": "measured-empire",
   "metadata": {},
   "outputs": [],
   "source": [
    "app_rec.ID.duplicated().sum()"
   ]
  },
  {
   "cell_type": "code",
   "execution_count": null,
   "id": "going-lending",
   "metadata": {},
   "outputs": [],
   "source": [
    "#check missing values"
   ]
  },
  {
   "cell_type": "code",
   "execution_count": null,
   "id": "celtic-vegetarian",
   "metadata": {},
   "outputs": [],
   "source": [
    "for name in app_rec.columns:\n",
    "    print(app_rec[name].value_counts())"
   ]
  },
  {
   "cell_type": "code",
   "execution_count": null,
   "id": "fabulous-relay",
   "metadata": {},
   "outputs": [],
   "source": [
    "# Check Outliers"
   ]
  },
  {
   "cell_type": "code",
   "execution_count": null,
   "id": "thorough-charlotte",
   "metadata": {},
   "outputs": [],
   "source": [
    "# Remove Outlyers"
   ]
  },
  {
   "cell_type": "markdown",
   "id": "miniature-wings",
   "metadata": {},
   "source": [
    "# B - cre_rec Data Cleaning & Transforming"
   ]
  },
  {
   "cell_type": "code",
   "execution_count": null,
   "id": "mobile-contribution",
   "metadata": {},
   "outputs": [],
   "source": [
    "# check the column name of both datasets"
   ]
  },
  {
   "cell_type": "code",
   "execution_count": null,
   "id": "liberal-anthropology",
   "metadata": {},
   "outputs": [],
   "source": [
    "cre_rec.columns"
   ]
  },
  {
   "cell_type": "code",
   "execution_count": null,
   "id": "treated-suite",
   "metadata": {},
   "outputs": [],
   "source": [
    "#Transpose the credit record "
   ]
  },
  {
   "cell_type": "code",
   "execution_count": null,
   "id": "ambient-scratch",
   "metadata": {},
   "outputs": [],
   "source": [
    "cre_rec.sort_values([\"ID\",\"MONTHS_BALANCE\"],ascending=False,    inplace=False).head(10).set_index('ID')"
   ]
  },
  {
   "cell_type": "code",
   "execution_count": null,
   "id": "secure-drill",
   "metadata": {},
   "outputs": [],
   "source": [
    "cre_rec.pivot(index=\"ID\", columns='MONTHS_BALANCE', values= 'STATUS')"
   ]
  },
  {
   "cell_type": "code",
   "execution_count": null,
   "id": "banned-companion",
   "metadata": {},
   "outputs": [],
   "source": [
    "cre_rec.groupby(by=[\"ID\"])"
   ]
  },
  {
   "cell_type": "code",
   "execution_count": null,
   "id": "comic-canyon",
   "metadata": {},
   "outputs": [],
   "source": [
    "cre_rec.ID.duplicated().count()"
   ]
  },
  {
   "cell_type": "code",
   "execution_count": null,
   "id": "adapted-liberal",
   "metadata": {},
   "outputs": [],
   "source": [
    "cre_rec.shape"
   ]
  },
  {
   "cell_type": "code",
   "execution_count": null,
   "id": "synthetic-equality",
   "metadata": {
    "scrolled": true
   },
   "outputs": [],
   "source": [
    "cre_rec.STATUS.value_counts()"
   ]
  },
  {
   "cell_type": "markdown",
   "id": "disabled-stage",
   "metadata": {},
   "source": [
    "# C - Merge the Data Sets"
   ]
  },
  {
   "cell_type": "code",
   "execution_count": null,
   "id": "ultimate-british",
   "metadata": {},
   "outputs": [],
   "source": [
    "data = pd.merge(app_rec,cre_rec)"
   ]
  },
  {
   "cell_type": "code",
   "execution_count": null,
   "id": "passing-technician",
   "metadata": {},
   "outputs": [],
   "source": [
    "data"
   ]
  },
  {
   "cell_type": "code",
   "execution_count": null,
   "id": "protective-private",
   "metadata": {},
   "outputs": [],
   "source": [
    "# Merge 2 datasets based on the id"
   ]
  },
  {
   "cell_type": "code",
   "execution_count": null,
   "id": "nonprofit-radical",
   "metadata": {},
   "outputs": [],
   "source": [
    "#Save the Cleaned Data"
   ]
  },
  {
   "cell_type": "markdown",
   "id": "blessed-premiere",
   "metadata": {},
   "source": [
    "# D - Model Development"
   ]
  },
  {
   "cell_type": "code",
   "execution_count": null,
   "id": "sunset-bulgarian",
   "metadata": {},
   "outputs": [],
   "source": [
    "# Reload the Cleaned Data"
   ]
  },
  {
   "cell_type": "code",
   "execution_count": null,
   "id": "attempted-september",
   "metadata": {},
   "outputs": [],
   "source": [
    "#Reload the Cleaned Data"
   ]
  },
  {
   "cell_type": "code",
   "execution_count": null,
   "id": "institutional-cycle",
   "metadata": {},
   "outputs": [],
   "source": [
    "#Load Required librarys\n",
    "import sksklearn "
   ]
  },
  {
   "cell_type": "code",
   "execution_count": null,
   "id": "reflected-honey",
   "metadata": {},
   "outputs": [],
   "source": [
    "#train model 1"
   ]
  },
  {
   "cell_type": "code",
   "execution_count": null,
   "id": "caring-copper",
   "metadata": {},
   "outputs": [],
   "source": [
    "#Test model 1"
   ]
  },
  {
   "cell_type": "code",
   "execution_count": null,
   "id": "adapted-transfer",
   "metadata": {},
   "outputs": [],
   "source": [
    "#evaluate model 1"
   ]
  },
  {
   "cell_type": "code",
   "execution_count": 1,
   "id": "final-vatican",
   "metadata": {},
   "outputs": [
    {
     "data": {
      "text/plain": [
       "'C:\\\\Users\\\\shaha\\\\Documents'"
      ]
     },
     "execution_count": 1,
     "metadata": {},
     "output_type": "execute_result"
    }
   ],
   "source": [
    "pwd"
   ]
  },
  {
   "cell_type": "code",
   "execution_count": null,
   "id": "collective-amber",
   "metadata": {},
   "outputs": [],
   "source": [
    "# test"
   ]
  }
 ],
 "metadata": {
  "kernelspec": {
   "display_name": "Python 3",
   "language": "python",
   "name": "python3"
  },
  "language_info": {
   "codemirror_mode": {
    "name": "ipython",
    "version": 3
   },
   "file_extension": ".py",
   "mimetype": "text/x-python",
   "name": "python",
   "nbconvert_exporter": "python",
   "pygments_lexer": "ipython3",
   "version": "3.8.8"
  }
 },
 "nbformat": 4,
 "nbformat_minor": 5
}
