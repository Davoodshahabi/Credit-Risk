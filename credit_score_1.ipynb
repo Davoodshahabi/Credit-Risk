{
 "cells": [
  {
   "cell_type": "code",
   "execution_count": 40,
   "id": "future-manner",
   "metadata": {},
   "outputs": [],
   "source": [
    "# Load required libraries\n",
    "import pandas as pd\n",
    "import numpy as np\n",
    "import matplotlib.pyplot as plt\n",
    "import seaborn as sns"
   ]
  },
  {
   "cell_type": "code",
   "execution_count": 41,
   "id": "bronze-recall",
   "metadata": {},
   "outputs": [],
   "source": [
    "# Load 2 data sets\n",
    "app_rec = pd.read_csv(r'C:\\Users\\shaha\\OneDrive\\Documents\\credit_score\\application_record.csv')\n",
    "\n",
    "cre_rec = pd.read_csv(r'C:\\Users\\shaha\\OneDrive\\Documents\\credit_score\\credit_record.csv')"
   ]
  },
  {
   "cell_type": "markdown",
   "id": "a9b6cd37",
   "metadata": {},
   "source": [
    "# Data Exploration"
   ]
  },
  {
   "cell_type": "code",
   "execution_count": 42,
   "id": "young-device",
   "metadata": {},
   "outputs": [
    {
     "name": "stdout",
     "output_type": "stream",
     "text": [
      "(438557, 18)\n",
      "(1048575, 3)\n"
     ]
    }
   ],
   "source": [
    "# Check the size of each data set\n",
    "print(app_rec.shape)\n",
    "print(cre_rec.shape)"
   ]
  },
  {
   "cell_type": "code",
   "execution_count": 43,
   "id": "compatible-housing",
   "metadata": {
    "scrolled": false
   },
   "outputs": [
    {
     "data": {
      "text/plain": [
       "['ID',\n",
       " 'CODE_GENDER',\n",
       " 'FLAG_OWN_CAR',\n",
       " 'FLAG_OWN_REALTY',\n",
       " 'CNT_CHILDREN',\n",
       " 'AMT_INCOME_TOTAL',\n",
       " 'NAME_INCOME_TYPE',\n",
       " 'NAME_EDUCATION_TYPE',\n",
       " 'NAME_FAMILY_STATUS',\n",
       " 'NAME_HOUSING_TYPE',\n",
       " 'DAYS_BIRTH',\n",
       " 'DAYS_EMPLOYED',\n",
       " 'FLAG_MOBIL',\n",
       " 'FLAG_WORK_PHONE',\n",
       " 'FLAG_PHONE',\n",
       " 'FLAG_EMAIL',\n",
       " 'OCCUPATION_TYPE',\n",
       " 'CNT_FAM_MEMBERS']"
      ]
     },
     "execution_count": 43,
     "metadata": {},
     "output_type": "execute_result"
    }
   ],
   "source": [
    "app_rec.columns.to_list()"
   ]
  },
  {
   "cell_type": "code",
   "execution_count": 44,
   "id": "statistical-affair",
   "metadata": {},
   "outputs": [
    {
     "data": {
      "text/html": [
       "<div>\n",
       "<style scoped>\n",
       "    .dataframe tbody tr th:only-of-type {\n",
       "        vertical-align: middle;\n",
       "    }\n",
       "\n",
       "    .dataframe tbody tr th {\n",
       "        vertical-align: top;\n",
       "    }\n",
       "\n",
       "    .dataframe thead th {\n",
       "        text-align: right;\n",
       "    }\n",
       "</style>\n",
       "<table border=\"1\" class=\"dataframe\">\n",
       "  <thead>\n",
       "    <tr style=\"text-align: right;\">\n",
       "      <th></th>\n",
       "      <th>ID</th>\n",
       "      <th>CODE_GENDER</th>\n",
       "      <th>FLAG_OWN_CAR</th>\n",
       "      <th>FLAG_OWN_REALTY</th>\n",
       "      <th>CNT_CHILDREN</th>\n",
       "      <th>AMT_INCOME_TOTAL</th>\n",
       "      <th>NAME_INCOME_TYPE</th>\n",
       "      <th>NAME_EDUCATION_TYPE</th>\n",
       "      <th>NAME_FAMILY_STATUS</th>\n",
       "      <th>NAME_HOUSING_TYPE</th>\n",
       "      <th>DAYS_BIRTH</th>\n",
       "      <th>DAYS_EMPLOYED</th>\n",
       "      <th>FLAG_MOBIL</th>\n",
       "      <th>FLAG_WORK_PHONE</th>\n",
       "      <th>FLAG_PHONE</th>\n",
       "      <th>FLAG_EMAIL</th>\n",
       "      <th>OCCUPATION_TYPE</th>\n",
       "      <th>CNT_FAM_MEMBERS</th>\n",
       "    </tr>\n",
       "  </thead>\n",
       "  <tbody>\n",
       "    <tr>\n",
       "      <th>0</th>\n",
       "      <td>5008804</td>\n",
       "      <td>M</td>\n",
       "      <td>Y</td>\n",
       "      <td>Y</td>\n",
       "      <td>0</td>\n",
       "      <td>427500.0</td>\n",
       "      <td>Working</td>\n",
       "      <td>Higher education</td>\n",
       "      <td>Civil marriage</td>\n",
       "      <td>Rented apartment</td>\n",
       "      <td>-12005</td>\n",
       "      <td>-4542</td>\n",
       "      <td>1</td>\n",
       "      <td>1</td>\n",
       "      <td>0</td>\n",
       "      <td>0</td>\n",
       "      <td>NaN</td>\n",
       "      <td>2.0</td>\n",
       "    </tr>\n",
       "    <tr>\n",
       "      <th>1</th>\n",
       "      <td>5008805</td>\n",
       "      <td>M</td>\n",
       "      <td>Y</td>\n",
       "      <td>Y</td>\n",
       "      <td>0</td>\n",
       "      <td>427500.0</td>\n",
       "      <td>Working</td>\n",
       "      <td>Higher education</td>\n",
       "      <td>Civil marriage</td>\n",
       "      <td>Rented apartment</td>\n",
       "      <td>-12005</td>\n",
       "      <td>-4542</td>\n",
       "      <td>1</td>\n",
       "      <td>1</td>\n",
       "      <td>0</td>\n",
       "      <td>0</td>\n",
       "      <td>NaN</td>\n",
       "      <td>2.0</td>\n",
       "    </tr>\n",
       "    <tr>\n",
       "      <th>2</th>\n",
       "      <td>5008806</td>\n",
       "      <td>M</td>\n",
       "      <td>Y</td>\n",
       "      <td>Y</td>\n",
       "      <td>0</td>\n",
       "      <td>112500.0</td>\n",
       "      <td>Working</td>\n",
       "      <td>Secondary / secondary special</td>\n",
       "      <td>Married</td>\n",
       "      <td>House / apartment</td>\n",
       "      <td>-21474</td>\n",
       "      <td>-1134</td>\n",
       "      <td>1</td>\n",
       "      <td>0</td>\n",
       "      <td>0</td>\n",
       "      <td>0</td>\n",
       "      <td>Security staff</td>\n",
       "      <td>2.0</td>\n",
       "    </tr>\n",
       "  </tbody>\n",
       "</table>\n",
       "</div>"
      ],
      "text/plain": [
       "        ID CODE_GENDER FLAG_OWN_CAR FLAG_OWN_REALTY  CNT_CHILDREN  \\\n",
       "0  5008804           M            Y               Y             0   \n",
       "1  5008805           M            Y               Y             0   \n",
       "2  5008806           M            Y               Y             0   \n",
       "\n",
       "   AMT_INCOME_TOTAL NAME_INCOME_TYPE            NAME_EDUCATION_TYPE  \\\n",
       "0          427500.0          Working               Higher education   \n",
       "1          427500.0          Working               Higher education   \n",
       "2          112500.0          Working  Secondary / secondary special   \n",
       "\n",
       "  NAME_FAMILY_STATUS  NAME_HOUSING_TYPE  DAYS_BIRTH  DAYS_EMPLOYED  \\\n",
       "0     Civil marriage   Rented apartment      -12005          -4542   \n",
       "1     Civil marriage   Rented apartment      -12005          -4542   \n",
       "2            Married  House / apartment      -21474          -1134   \n",
       "\n",
       "   FLAG_MOBIL  FLAG_WORK_PHONE  FLAG_PHONE  FLAG_EMAIL OCCUPATION_TYPE  \\\n",
       "0           1                1           0           0             NaN   \n",
       "1           1                1           0           0             NaN   \n",
       "2           1                0           0           0  Security staff   \n",
       "\n",
       "   CNT_FAM_MEMBERS  \n",
       "0              2.0  \n",
       "1              2.0  \n",
       "2              2.0  "
      ]
     },
     "execution_count": 44,
     "metadata": {},
     "output_type": "execute_result"
    }
   ],
   "source": [
    "app_rec.head(3)"
   ]
  },
  {
   "cell_type": "code",
   "execution_count": 45,
   "id": "complimentary-brazil",
   "metadata": {
    "scrolled": true
   },
   "outputs": [
    {
     "name": "stdout",
     "output_type": "stream",
     "text": [
      "<class 'pandas.core.frame.DataFrame'>\n",
      "RangeIndex: 438557 entries, 0 to 438556\n",
      "Data columns (total 18 columns):\n",
      " #   Column               Non-Null Count   Dtype  \n",
      "---  ------               --------------   -----  \n",
      " 0   ID                   438557 non-null  int64  \n",
      " 1   CODE_GENDER          438557 non-null  object \n",
      " 2   FLAG_OWN_CAR         438557 non-null  object \n",
      " 3   FLAG_OWN_REALTY      438557 non-null  object \n",
      " 4   CNT_CHILDREN         438557 non-null  int64  \n",
      " 5   AMT_INCOME_TOTAL     438557 non-null  float64\n",
      " 6   NAME_INCOME_TYPE     438557 non-null  object \n",
      " 7   NAME_EDUCATION_TYPE  438557 non-null  object \n",
      " 8   NAME_FAMILY_STATUS   438557 non-null  object \n",
      " 9   NAME_HOUSING_TYPE    438557 non-null  object \n",
      " 10  DAYS_BIRTH           438557 non-null  int64  \n",
      " 11  DAYS_EMPLOYED        438557 non-null  int64  \n",
      " 12  FLAG_MOBIL           438557 non-null  int64  \n",
      " 13  FLAG_WORK_PHONE      438557 non-null  int64  \n",
      " 14  FLAG_PHONE           438557 non-null  int64  \n",
      " 15  FLAG_EMAIL           438557 non-null  int64  \n",
      " 16  OCCUPATION_TYPE      304354 non-null  object \n",
      " 17  CNT_FAM_MEMBERS      438557 non-null  float64\n",
      "dtypes: float64(2), int64(8), object(8)\n",
      "memory usage: 60.2+ MB\n"
     ]
    }
   ],
   "source": [
    "app_rec.info()"
   ]
  },
  {
   "cell_type": "raw",
   "id": "c34e50ea",
   "metadata": {},
   "source": [
    "Notes:\n",
    "1) ID is int64 and should be changed to object format.\n",
    "2) FLAG_Mobile, FLAG_WORK_PHONE, FLAG_PHONE, FLAG_EMAIL should be changed to Object format.\n",
    "3) We have missing values for OCCUPATION_TYPE."
   ]
  },
  {
   "cell_type": "code",
   "execution_count": 46,
   "id": "proud-family",
   "metadata": {},
   "outputs": [
    {
     "name": "stdout",
     "output_type": "stream",
     "text": [
      "['Working' 'Commercial associate' 'Pensioner' 'State servant' 'Student']\n",
      "['Higher education' 'Secondary / secondary special' 'Incomplete higher'\n",
      " 'Lower secondary' 'Academic degree']\n",
      "['Civil marriage' 'Married' 'Single / not married' 'Separated' 'Widow']\n",
      "['Rented apartment' 'House / apartment' 'Municipal apartment'\n",
      " 'With parents' 'Co-op apartment' 'Office apartment']\n"
     ]
    }
   ],
   "source": [
    "# Create code for object data type fields:\n",
    "   # 'NAME_INCOME_TYPE', \n",
    "   # 'NAME_EDUCATION_TYPE', \n",
    "   # 'NAME_FAMILY_STATUS', \n",
    "   # 'NAME_HOUSING_TYPE'\n",
    "\n",
    "\n",
    "print(app_rec.NAME_INCOME_TYPE.unique())\n",
    "print(app_rec.NAME_EDUCATION_TYPE.unique())\n",
    "print(app_rec.NAME_FAMILY_STATUS.unique())\n",
    "print(app_rec.NAME_HOUSING_TYPE.unique())"
   ]
  },
  {
   "cell_type": "code",
   "execution_count": 47,
   "id": "011aa9cb",
   "metadata": {},
   "outputs": [
    {
     "data": {
      "image/png": "[encoded data removed]",
      "text/plain": [
       "<Figure size 720x504 with 1 Axes>"
      ]
     },
     "metadata": {
      "needs_background": "light"
     },
     "output_type": "display_data"
    },
    {
     "data": {
      "image/png": "[encoded data removed]",
      "text/plain": [
       "<Figure size 720x504 with 1 Axes>"
      ]
     },
     "metadata": {
      "needs_background": "light"
     },
     "output_type": "display_data"
    },
    {
     "data": {
      "image/png": "[encoded data removed]",
      "text/plain": [
       "<Figure size 720x504 with 1 Axes>"
      ]
     },
     "metadata": {
      "needs_background": "light"
     },
     "output_type": "display_data"
    },
    {
     "data": {
      "image/png": "[encoded data removed]",
      "text/plain": [
       "<Figure size 720x504 with 1 Axes>"
      ]
     },
     "metadata": {
      "needs_background": "light"
     },
     "output_type": "display_data"
    }
   ],
   "source": [
    "# Create a for loop for visualization of frequency of items in each aforementioned columns\n",
    "for var in ['NAME_INCOME_TYPE',  'NAME_EDUCATION_TYPE', 'NAME_FAMILY_STATUS',  'NAME_HOUSING_TYPE']:\n",
    "    # countplt, ax = plt.subplots(figsize = (10,7))\n",
    "    plt.rcParams[\"figure.figsize\"] = [10, 7]\n",
    "    plt.rcParams[\"figure.autolayout\"] = True\n",
    "    ax = sns.countplot(x =var, data = app_rec)\n",
    "    ax.set_title(var,fontsize = 18, fontweight='bold' )\n",
    "    ax.bar_label(ax.containers[0])\n",
    "    ax.set_xlabel(var, fontsize = 15)\n",
    "    ax.set_ylabel('count', fontsize = 15)\n",
    "    plt.show()"
   ]
  },
  {
   "cell_type": "raw",
   "id": "d13e688e",
   "metadata": {},
   "source": [
    "# It Seems we have imbalanced data. What will be the next step to address this situation and avoid consequential issues?"
   ]
  },
  {
   "cell_type": "code",
   "execution_count": 48,
   "id": "resistant-jerusalem",
   "metadata": {},
   "outputs": [
    {
     "data": {
      "text/html": [
       "<div>\n",
       "<style scoped>\n",
       "    .dataframe tbody tr th:only-of-type {\n",
       "        vertical-align: middle;\n",
       "    }\n",
       "\n",
       "    .dataframe tbody tr th {\n",
       "        vertical-align: top;\n",
       "    }\n",
       "\n",
       "    .dataframe thead th {\n",
       "        text-align: right;\n",
       "    }\n",
       "</style>\n",
       "<table border=\"1\" class=\"dataframe\">\n",
       "  <thead>\n",
       "    <tr style=\"text-align: right;\">\n",
       "      <th></th>\n",
       "      <th>count</th>\n",
       "      <th>mean</th>\n",
       "      <th>std</th>\n",
       "      <th>min</th>\n",
       "      <th>25%</th>\n",
       "      <th>50%</th>\n",
       "      <th>75%</th>\n",
       "      <th>max</th>\n",
       "    </tr>\n",
       "  </thead>\n",
       "  <tbody>\n",
       "    <tr>\n",
       "      <th>ID</th>\n",
       "      <td>438557.0</td>\n",
       "      <td>6.022176e+06</td>\n",
       "      <td>571637.023257</td>\n",
       "      <td>5008804.0</td>\n",
       "      <td>5609375.0</td>\n",
       "      <td>6047745.0</td>\n",
       "      <td>6456971.0</td>\n",
       "      <td>7999952.0</td>\n",
       "    </tr>\n",
       "    <tr>\n",
       "      <th>CNT_CHILDREN</th>\n",
       "      <td>438557.0</td>\n",
       "      <td>4.273903e-01</td>\n",
       "      <td>0.724882</td>\n",
       "      <td>0.0</td>\n",
       "      <td>0.0</td>\n",
       "      <td>0.0</td>\n",
       "      <td>1.0</td>\n",
       "      <td>19.0</td>\n",
       "    </tr>\n",
       "    <tr>\n",
       "      <th>AMT_INCOME_TOTAL</th>\n",
       "      <td>438557.0</td>\n",
       "      <td>1.875243e+05</td>\n",
       "      <td>110086.853066</td>\n",
       "      <td>26100.0</td>\n",
       "      <td>121500.0</td>\n",
       "      <td>160780.5</td>\n",
       "      <td>225000.0</td>\n",
       "      <td>6750000.0</td>\n",
       "    </tr>\n",
       "    <tr>\n",
       "      <th>DAYS_BIRTH</th>\n",
       "      <td>438557.0</td>\n",
       "      <td>-1.599790e+04</td>\n",
       "      <td>4185.030007</td>\n",
       "      <td>-25201.0</td>\n",
       "      <td>-19483.0</td>\n",
       "      <td>-15630.0</td>\n",
       "      <td>-12514.0</td>\n",
       "      <td>-7489.0</td>\n",
       "    </tr>\n",
       "    <tr>\n",
       "      <th>DAYS_EMPLOYED</th>\n",
       "      <td>438557.0</td>\n",
       "      <td>6.056368e+04</td>\n",
       "      <td>138767.799647</td>\n",
       "      <td>-17531.0</td>\n",
       "      <td>-3103.0</td>\n",
       "      <td>-1467.0</td>\n",
       "      <td>-371.0</td>\n",
       "      <td>365243.0</td>\n",
       "    </tr>\n",
       "    <tr>\n",
       "      <th>FLAG_MOBIL</th>\n",
       "      <td>438557.0</td>\n",
       "      <td>1.000000e+00</td>\n",
       "      <td>0.000000</td>\n",
       "      <td>1.0</td>\n",
       "      <td>1.0</td>\n",
       "      <td>1.0</td>\n",
       "      <td>1.0</td>\n",
       "      <td>1.0</td>\n",
       "    </tr>\n",
       "    <tr>\n",
       "      <th>FLAG_WORK_PHONE</th>\n",
       "      <td>438557.0</td>\n",
       "      <td>2.061328e-01</td>\n",
       "      <td>0.404527</td>\n",
       "      <td>0.0</td>\n",
       "      <td>0.0</td>\n",
       "      <td>0.0</td>\n",
       "      <td>0.0</td>\n",
       "      <td>1.0</td>\n",
       "    </tr>\n",
       "    <tr>\n",
       "      <th>FLAG_PHONE</th>\n",
       "      <td>438557.0</td>\n",
       "      <td>2.877710e-01</td>\n",
       "      <td>0.452724</td>\n",
       "      <td>0.0</td>\n",
       "      <td>0.0</td>\n",
       "      <td>0.0</td>\n",
       "      <td>1.0</td>\n",
       "      <td>1.0</td>\n",
       "    </tr>\n",
       "    <tr>\n",
       "      <th>FLAG_EMAIL</th>\n",
       "      <td>438557.0</td>\n",
       "      <td>1.082071e-01</td>\n",
       "      <td>0.310642</td>\n",
       "      <td>0.0</td>\n",
       "      <td>0.0</td>\n",
       "      <td>0.0</td>\n",
       "      <td>0.0</td>\n",
       "      <td>1.0</td>\n",
       "    </tr>\n",
       "    <tr>\n",
       "      <th>CNT_FAM_MEMBERS</th>\n",
       "      <td>438557.0</td>\n",
       "      <td>2.194465e+00</td>\n",
       "      <td>0.897207</td>\n",
       "      <td>1.0</td>\n",
       "      <td>2.0</td>\n",
       "      <td>2.0</td>\n",
       "      <td>3.0</td>\n",
       "      <td>20.0</td>\n",
       "    </tr>\n",
       "  </tbody>\n",
       "</table>\n",
       "</div>"
      ],
      "text/plain": [
       "                     count          mean            std        min        25%  \\\n",
       "ID                438557.0  6.022176e+06  571637.023257  5008804.0  5609375.0   \n",
       "CNT_CHILDREN      438557.0  4.273903e-01       0.724882        0.0        0.0   \n",
       "AMT_INCOME_TOTAL  438557.0  1.875243e+05  110086.853066    26100.0   121500.0   \n",
       "DAYS_BIRTH        438557.0 -1.599790e+04    4185.030007   -25201.0   -19483.0   \n",
       "DAYS_EMPLOYED     438557.0  6.056368e+04  138767.799647   -17531.0    -3103.0   \n",
       "FLAG_MOBIL        438557.0  1.000000e+00       0.000000        1.0        1.0   \n",
       "FLAG_WORK_PHONE   438557.0  2.061328e-01       0.404527        0.0        0.0   \n",
       "FLAG_PHONE        438557.0  2.877710e-01       0.452724        0.0        0.0   \n",
       "FLAG_EMAIL        438557.0  1.082071e-01       0.310642        0.0        0.0   \n",
       "CNT_FAM_MEMBERS   438557.0  2.194465e+00       0.897207        1.0        2.0   \n",
       "\n",
       "                        50%        75%        max  \n",
       "ID                6047745.0  6456971.0  7999952.0  \n",
       "CNT_CHILDREN            0.0        1.0       19.0  \n",
       "AMT_INCOME_TOTAL   160780.5   225000.0  6750000.0  \n",
       "DAYS_BIRTH         -15630.0   -12514.0    -7489.0  \n",
       "DAYS_EMPLOYED       -1467.0     -371.0   365243.0  \n",
       "FLAG_MOBIL              1.0        1.0        1.0  \n",
       "FLAG_WORK_PHONE         0.0        0.0        1.0  \n",
       "FLAG_PHONE              0.0        1.0        1.0  \n",
       "FLAG_EMAIL              0.0        0.0        1.0  \n",
       "CNT_FAM_MEMBERS         2.0        3.0       20.0  "
      ]
     },
     "execution_count": 48,
     "metadata": {},
     "output_type": "execute_result"
    }
   ],
   "source": [
    "#Check the Numeric fields\n",
    "app_rec.describe().T"
   ]
  },
  {
   "cell_type": "code",
   "execution_count": 39,
   "id": "4223a525",
   "metadata": {},
   "outputs": [
    {
     "data": {
      "image/png": "[encoded data removed]",
      "text/plain": [
       "<Figure size 720x504 with 1 Axes>"
      ]
     },
     "metadata": {
      "needs_background": "light"
     },
     "output_type": "display_data"
    }
   ],
   "source": [
    "   bx = sns.barplot(y =\"CNT_CHILDREN\", data = app_rec)"
   ]
  },
  {
   "cell_type": "code",
   "execution_count": 38,
   "id": "5b721899",
   "metadata": {},
   "outputs": [
    {
     "data": {
      "image/png": "[encoded data removed]",
      "text/plain": [
       "<Figure size 720x504 with 1 Axes>"
      ]
     },
     "metadata": {
      "needs_background": "light"
     },
     "output_type": "display_data"
    },
    {
     "data": {
      "image/png": "[encoded data removed]",
      "text/plain": [
       "<Figure size 720x504 with 1 Axes>"
      ]
     },
     "metadata": {
      "needs_background": "light"
     },
     "output_type": "display_data"
    },
    {
     "data": {
      "image/png": "[encoded data removed]",
      "text/plain": [
       "<Figure size 720x504 with 1 Axes>"
      ]
     },
     "metadata": {
      "needs_background": "light"
     },
     "output_type": "display_data"
    }
   ],
   "source": [
    "for var in ['CNT_CHILDREN',  'AMT_INCOME_TOTAL',  'DAYS_EMPLOYED']:\n",
    "    # countplt, ax = plt.subplots(figsize = (10,7))\n",
    "    plt.rcParams[\"figure.figsize\"] = [10, 7]\n",
    "    # plt.rcParams[\"figure.autolayout\"] = True\n",
    "    ax =  sns.barplot(y=var, data = app_rec)\n",
    "    ax.set_title(var,fontsize = 18, fontweight='bold' )\n",
    "    # ax.bar_label(ax.containers[0])\n",
    "    # ax.set_xlabel(var, fontsize = 15)\n",
    "    # ax.set_ylabel('count', fontsize = 15)\n",
    "    plt.show()"
   ]
  },
  {
   "cell_type": "code",
   "execution_count": 29,
   "id": "302fc3a9",
   "metadata": {},
   "outputs": [
    {
     "data": {
      "text/plain": [
       "array([1, 0], dtype=int64)"
      ]
     },
     "execution_count": 29,
     "metadata": {},
     "output_type": "execute_result"
    }
   ],
   "source": [
    "app_rec.FLAG_WORK_PHONE.unique()"
   ]
  },
  {
   "cell_type": "markdown",
   "id": "72c8baa9",
   "metadata": {},
   "source": [
    "# Data Cleaning"
   ]
  },
  {
   "cell_type": "code",
   "execution_count": null,
   "id": "779490f0",
   "metadata": {},
   "outputs": [],
   "source": [
    "# Use OneHot_encoding to create binary values for 4 different fiels (see the above cell):\n",
    "app_rec = pd.get_dummies(data=app_rec, columns=['NAME_INCOME_TYPE','NAME_EDUCATION_TYPE','NAME_FAMILY_STATUS','NAME_HOUSING_TYPE'])#.astype(str)"
   ]
  },
  {
   "cell_type": "code",
   "execution_count": null,
   "id": "20737f3d",
   "metadata": {},
   "outputs": [],
   "source": [
    "# # Change the data type of the 'ID','FLAG_MOBIL', 'FLAG_WORK_PHONE', 'FLAG_PHONE', 'FLAG_EMAIL' to string data type.\n",
    "# columns = ['ID','FLAG_MOBIL', 'FLAG_WORK_PHONE', 'FLAG_PHONE', 'FLAG_EMAIL']\n",
    "# for column in columns:\n",
    "#     app_rec[column] = app_rec[column].astype(str)\n",
    "\n",
    "# # Stay with int (0,1)."
   ]
  },
  {
   "cell_type": "code",
   "execution_count": null,
   "id": "0ec820f6",
   "metadata": {},
   "outputs": [],
   "source": [
    "app_rec.info()"
   ]
  },
  {
   "cell_type": "markdown",
   "id": "cdc3a40a",
   "metadata": {},
   "source": [
    "Note: It seems we have some Outliers in \"AMT_INCOME_TOTAL\". We need to do more research on it."
   ]
  },
  {
   "cell_type": "code",
   "execution_count": null,
   "id": "3712d62d",
   "metadata": {},
   "outputs": [],
   "source": [
    "# Visualize the data range in \"AMT_INCOME_TOTAL\":\n",
    "app_rec.AMT_INCOME_TOTAL.plot.box(figsize=(4, 8),widths=(0.5), showfliers=True, patch_artist = False)\n",
    "\n",
    "# How can I improve the quality of the graph?"
   ]
  },
  {
   "cell_type": "code",
   "execution_count": null,
   "metadata": {},
   "outputs": [],
   "source": [
    "# sns.set_style(\"whitegrid\")\n",
    "sns.set(rc={\"figure.figsize\":(10, 10)})\n",
    "sns.set_style(\"darkgrid\", {\"grid.color\": \".6\", \"grid.linestyle\": \":\"})\n",
    "ax = sns.boxplot( y=app_rec[\"AMT_INCOME_TOTAL\"] )\n",
    "ax.set(xlabel='Income', ylabel='Dollar Value')\n",
    "\n"
   ]
  },
  {
   "cell_type": "code",
   "execution_count": null,
   "id": "6e28f9f3",
   "metadata": {},
   "outputs": [],
   "source": [
    "# # we have outliers in AMT_INCOME_TOTAL. We have 2 choices, either remove the outliers or creat buckets for values based on the 8 percentile groups. \n",
    "# # The second option was selected and finally applied the one hot encoding to the buckets:\n",
    "# app_rec['AMT_INCOME_TOTAL_BUKET'], cut_bin = pd.qcut(app_rec['AMT_INCOME_TOTAL'], q = 8, labels = ['1','2','3','4','5','6','7','8'], retbins = True)\n",
    "# app_rec[['AMT_INCOME_TOTAL','AMT_INCOME_TOTAL_BUKET']]\n",
    "# # app_rec = pd.get_dummies(data=app_rec, columns=['AMT_INCOME_TOTAL_BUKET'])  # Do it later on in cleaning!"
   ]
  },
  {
   "cell_type": "code",
   "execution_count": null,
   "id": "bc780287",
   "metadata": {},
   "outputs": [],
   "source": [
    "# Check the OCCUPATION_Type:\n",
    "print(\"Number of Missing Values:\", app_rec.OCCUPATION_TYPE.isnull().sum())\n",
    "app_rec.OCCUPATION_TYPE.value_counts()"
   ]
  },
  {
   "cell_type": "code",
   "execution_count": null,
   "id": "f3b6dca3",
   "metadata": {},
   "outputs": [],
   "source": [
    "app_rec.OCCUPATION_TYPE.value_counts(dropna = False)  # The same as above but much more efficient!"
   ]
  },
  {
   "cell_type": "code",
   "execution_count": null,
   "id": "caeae05e",
   "metadata": {},
   "outputs": [],
   "source": [
    "# We can assign \"Other\" for null values. \n",
    "app_rec[\"OCCUPATION_TYPE\"].fillna(\"Other\", inplace = True)"
   ]
  },
  {
   "cell_type": "code",
   "execution_count": null,
   "id": "25c01fb2",
   "metadata": {},
   "outputs": [],
   "source": [
    "app_rec.info()"
   ]
  },
  {
   "cell_type": "markdown",
   "id": "fbf7e2cf",
   "metadata": {},
   "source": [
    "# Feature Engineering"
   ]
  },
  {
   "cell_type": "code",
   "execution_count": null,
   "id": "manufactured-group",
   "metadata": {},
   "outputs": [],
   "source": [
    "# Create month_employed from DAYS_EMPLOYED.\n",
    "app_rec[\"MONTH_EMPLOYED\"] = app_rec[\"DAYS_EMPLOYED\"] /30\n",
    "app_rec[\"MONTH_EMPLOYED\"]  = app_rec[\"MONTH_EMPLOYED\"].apply(np.floor)"
   ]
  },
  {
   "cell_type": "code",
   "execution_count": null,
   "id": "0d02467d",
   "metadata": {},
   "outputs": [],
   "source": [
    "app_rec[[\"MONTH_EMPLOYED\",\"DAYS_EMPLOYED\"] ]"
   ]
  },
  {
   "cell_type": "code",
   "execution_count": null,
   "id": "structural-pocket",
   "metadata": {},
   "outputs": [],
   "source": [
    "# Create an employement flag fom DAYS_EMPLOYED.\n",
    "app_rec['FLAG_EMPLOYED'] = app_rec['DAYS_EMPLOYED'].apply(lambda x: 1 if x > 0 else 0).astype(str)"
   ]
  },
  {
   "cell_type": "code",
   "execution_count": null,
   "id": "4c3c85ba",
   "metadata": {},
   "outputs": [],
   "source": [
    "# New: Bolean based on a condition\n",
    "app_rec[\"Employed_Flag2\"] = app_rec['DAYS_EMPLOYED'] < 0 \n",
    "app_rec.head(10)"
   ]
  },
  {
   "cell_type": "code",
   "execution_count": null,
   "id": "interracial-gardening",
   "metadata": {},
   "outputs": [],
   "source": [
    "# Create Age based on DAYS_BIRTH.\n",
    "app_rec['AGE'] = (app_rec['DAYS_BIRTH']/365).abs().apply(np.floor)"
   ]
  },
  {
   "cell_type": "code",
   "execution_count": null,
   "id": "e5b246d8",
   "metadata": {},
   "outputs": [],
   "source": [
    "app_rec['AGE']"
   ]
  },
  {
   "cell_type": "code",
   "execution_count": null,
   "id": "6daae77e",
   "metadata": {},
   "outputs": [],
   "source": [
    "\n",
    "app_rec.hist(column='AGE');"
   ]
  },
  {
   "cell_type": "markdown",
   "id": "d58b5c1a",
   "metadata": {},
   "source": [
    "# Create 8 different bucket of Ages\n",
    "bins = [0, 20, 25,30,45,55,60, 65, 70]\n",
    "labels = [1,2,3,4,5,6,7,8]\n",
    "app_rec['AGE_BUKET'] = pd.cut(app_rec['AGE'], bins,labels=labels)\n",
    "app_rec['AGE_BUKET']"
   ]
  },
  {
   "cell_type": "code",
   "execution_count": null,
   "id": "typical-pennsylvania",
   "metadata": {},
   "outputs": [],
   "source": [
    "# Create Count of Children bucket based on CNT_CHILDREN\n",
    "app_rec.CNT_CHILDREN.value_counts()"
   ]
  },
  {
   "cell_type": "code",
   "execution_count": null,
   "id": "33fee4e6",
   "metadata": {},
   "outputs": [],
   "source": [
    "# # should be changed to number\n",
    "# app_rec.CNT_CHILDREN_BUCKET = app_rec.CNT_CHILDREN\n",
    "# def conditions(i): \n",
    "#     if i ==0 : return '0'\n",
    "#     if i ==1 : return \"1\"\n",
    "#     if i ==2 : return '2'\n",
    "#     if i ==3 : return '3'\n",
    "#     if i ==4 : return '4'\n",
    "#     if i >= 5: return '5'\n",
    "\n",
    "# app_rec['CNT_CHILDREN_BUCKET']=app_rec['CNT_CHILDREN'].apply(conditions)\n"
   ]
  },
  {
   "cell_type": "code",
   "execution_count": null,
   "id": "conscious-apparatus",
   "metadata": {},
   "outputs": [],
   "source": [
    "#check Missing Values\n",
    "app_rec.isnull().sum()"
   ]
  },
  {
   "cell_type": "code",
   "execution_count": null,
   "id": "geographic-treatment",
   "metadata": {},
   "outputs": [],
   "source": [
    "#Check Dublicate rows\n",
    "app_rec.duplicated().sum()"
   ]
  },
  {
   "cell_type": "markdown",
   "id": "324959d5",
   "metadata": {},
   "source": [
    "We do not have any dublicated rows. However, we have dublicated IDs:"
   ]
  },
  {
   "cell_type": "code",
   "execution_count": null,
   "id": "measured-empire",
   "metadata": {},
   "outputs": [],
   "source": [
    "app_rec.ID.duplicated().sum()"
   ]
  },
  {
   "cell_type": "code",
   "execution_count": null,
   "id": "89e39a4b",
   "metadata": {},
   "outputs": [],
   "source": [
    "df2 = app_rec[app_rec['ID'].duplicated(keep=False) == True].sort_values(by=['ID']).reset_index(drop=True)\n",
    "df2"
   ]
  },
  {
   "cell_type": "markdown",
   "id": "07bc11db",
   "metadata": {},
   "source": [
    "Due to the sensitivity of the dublication in ID, as a key, I decided to drop all rows with dublicated IDs."
   ]
  },
  {
   "cell_type": "code",
   "execution_count": null,
   "id": "7c2117a8",
   "metadata": {},
   "outputs": [],
   "source": [
    "app_rec = app_rec.drop_duplicates(subset=['ID']).reset_index()"
   ]
  },
  {
   "cell_type": "code",
   "execution_count": null,
   "id": "5db27443",
   "metadata": {},
   "outputs": [],
   "source": [
    "app_rec.shape"
   ]
  },
  {
   "cell_type": "code",
   "execution_count": null,
   "id": "6acb6ef9",
   "metadata": {},
   "outputs": [],
   "source": []
  },
  {
   "cell_type": "markdown",
   "id": "involved-gazette",
   "metadata": {},
   "source": [
    "# A - app_rec Data Cleaning"
   ]
  },
  {
   "cell_type": "markdown",
   "id": "miniature-wings",
   "metadata": {},
   "source": [
    "# B - cre_rec Data Cleaning & Transforming"
   ]
  },
  {
   "cell_type": "code",
   "execution_count": null,
   "id": "liberal-anthropology",
   "metadata": {},
   "outputs": [],
   "source": [
    "print(\"Name of the columns:\" ,cre_rec.columns)\n",
    "print(cre_rec.shape)"
   ]
  },
  {
   "cell_type": "code",
   "execution_count": null,
   "id": "6b9b66de",
   "metadata": {},
   "outputs": [],
   "source": [
    "cre_rec.STATUS.unique()\n",
    "# 0: 1-29 days past due \n",
    "# 1: 30-59 days past due \n",
    "# 2: 60-89 days overdue \n",
    "# 3: 90-119 days overdue \n",
    "# 4: 120-149 days overdue \n",
    "# 5: Overdue or bad debts, write-offs for more than 150 days \n",
    "# C: paid off that month \n",
    "# X: No loan for the month"
   ]
  },
  {
   "cell_type": "code",
   "execution_count": null,
   "id": "3856b752",
   "metadata": {},
   "outputs": [],
   "source": [
    "gouped_id = cre_rec.groupby('ID')\n",
    "pivot_tb = cre_rec.pivot(index=\"ID\", columns='MONTHS_BALANCE', values= 'STATUS')\n",
    "pivot_tb[\"Open_Month\"] = gouped_id[\"MONTHS_BALANCE\"].min()\n",
    "pivot_tb['End_Month'] = gouped_id['MONTHS_BALANCE'].max()\n",
    "pivot_tb['ID'] = pivot_tb.index\n",
    "pivot_tb = pivot_tb[[\"ID\",\"Open_Month\",\"End_Month\"]]\n",
    "pivot_tb[\"window\"] = pivot_tb[\"End_Month\"] - pivot_tb[\"Open_Month\"]\n",
    "pivot_tb.reset_index(drop = True, inplace = True)\n",
    "\n",
    "credit = pd.merge(cre_rec, pivot_tb, on = 'ID', how = 'left')"
   ]
  },
  {
   "cell_type": "code",
   "execution_count": null,
   "id": "5cbb3a02",
   "metadata": {},
   "outputs": [],
   "source": [
    "pivot_tb"
   ]
  },
  {
   "cell_type": "code",
   "execution_count": null,
   "id": "54a56384",
   "metadata": {},
   "outputs": [],
   "source": [
    "credit = credit[credit['window'] > 20]\n",
    "\n",
    "credit['status'] = np.where((credit['STATUS'] == '2') | (credit['STATUS'] == '3' )| (credit['STATUS'] == '4' )| (credit['STATUS'] == '5'), 1, 0) # analyze > 60 days past due \n",
    "\n",
    "credit['status'] = credit['status'].astype(np.int8)\n",
    "\n",
    "credit['month_on_book'] = credit['MONTHS_BALANCE'] - credit['Open_Month'] # calculate month on book: how many months after opening account\n",
    "\n",
    "credit.sort_values(by = ['ID','month_on_book'], inplace = True)\n",
    "\n",
    "####\n",
    "denominator = pivot_tb.groupby([\"Open_Month\"]).agg({\"ID\":['count']})\n",
    "denominator.reset_index(inplace=True)\n",
    "denominator.columns = ['open_month','sta_sum']"
   ]
  },
  {
   "cell_type": "code",
   "execution_count": null,
   "id": "bf84ef8f",
   "metadata": {},
   "outputs": [],
   "source": [
    "vintage = credit.groupby(['Open_Month','month_on_book']).agg({'ID': ['count']}) \n",
    "vintage.reset_index(inplace = True)\n",
    "vintage.columns = ['open_month','month_on_book','sta_sum'] \n",
    "vintage['due_count'] = np.nan\n",
    "vintage = vintage[['open_month','month_on_book','due_count']] # delete aggerate column\n",
    "vintage = pd.merge(vintage, denominator, on = ['open_month'], how = 'left') # join sta_sum colun to vintage table\n",
    "vintage"
   ]
  },
  {
   "cell_type": "code",
   "execution_count": null,
   "id": "0264152d",
   "metadata": {},
   "outputs": [],
   "source": [
    "credit[credit[\"status\"]==1]"
   ]
  },
  {
   "cell_type": "code",
   "execution_count": null,
   "id": "f148f63d",
   "metadata": {},
   "outputs": [],
   "source": [
    "for j in range(-60,1):\n",
    "    ls = []\n",
    "    for i in range(0,60):\n",
    "        due = list(credit[(credit[\"status\"]==1) & (credit[\"month_on_book\"]==i) & (credit[\"Open_Month\"]==j)][\"ID\"])\n",
    "        ls.extend(due)\n",
    "        vintage.loc[(vintage['month_on_book']==i) & (vintage['open_month']==j), \"due_account\"] = len(set(ls))"
   ]
  },
  {
   "cell_type": "code",
   "execution_count": null,
   "id": "6801f7d2",
   "metadata": {},
   "outputs": [],
   "source": [
    "vintage"
   ]
  },
  {
   "cell_type": "code",
   "execution_count": null,
   "id": "eb2b3f59",
   "metadata": {},
   "outputs": [],
   "source": []
  },
  {
   "cell_type": "code",
   "execution_count": null,
   "id": "7c1ee485",
   "metadata": {},
   "outputs": [],
   "source": []
  },
  {
   "cell_type": "code",
   "execution_count": null,
   "id": "d8890d5b",
   "metadata": {},
   "outputs": [],
   "source": []
  },
  {
   "cell_type": "code",
   "execution_count": null,
   "id": "ef964d51",
   "metadata": {},
   "outputs": [],
   "source": []
  },
  {
   "cell_type": "code",
   "execution_count": null,
   "id": "ambient-scratch",
   "metadata": {},
   "outputs": [],
   "source": [
    "cre_rec.sort_values([\"ID\",\"MONTHS_BALANCE\"],ascending=False,    inplace=False).head(10).set_index('ID')"
   ]
  },
  {
   "cell_type": "code",
   "execution_count": null,
   "id": "treated-suite",
   "metadata": {},
   "outputs": [],
   "source": [
    "#Transpose the credit record "
   ]
  },
  {
   "cell_type": "code",
   "execution_count": null,
   "id": "839e6dad",
   "metadata": {},
   "outputs": [],
   "source": [
    "cre_rec = pd.DataFrame(cre_rec.groupby([\"ID\",\"STATUS\"])[\"STATUS\"].count()).rename(columns={'STATUS': 'Freq'}).reset_index()"
   ]
  },
  {
   "cell_type": "code",
   "execution_count": null,
   "id": "4eb9a399",
   "metadata": {},
   "outputs": [],
   "source": [
    "cre_rec"
   ]
  },
  {
   "cell_type": "code",
   "execution_count": null,
   "id": "secure-drill",
   "metadata": {},
   "outputs": [],
   "source": [
    "cre_rec.pivot(index=\"ID\", columns='MONTHS_BALANCE', values= 'STATUS')"
   ]
  },
  {
   "cell_type": "code",
   "execution_count": null,
   "id": "99dd6ac1",
   "metadata": {},
   "outputs": [],
   "source": [
    "cre_rec.loc[cre_rec[\"ID\"]==5001711]"
   ]
  },
  {
   "cell_type": "code",
   "execution_count": null,
   "id": "banned-companion",
   "metadata": {},
   "outputs": [],
   "source": [
    "cre_rec.groupby(by=[\"ID\"])"
   ]
  },
  {
   "cell_type": "code",
   "execution_count": null,
   "id": "comic-canyon",
   "metadata": {},
   "outputs": [],
   "source": [
    "cre_rec.ID.duplicated().count()"
   ]
  },
  {
   "cell_type": "code",
   "execution_count": null,
   "id": "adapted-liberal",
   "metadata": {},
   "outputs": [],
   "source": [
    "cre_rec.shape"
   ]
  },
  {
   "cell_type": "code",
   "execution_count": null,
   "id": "synthetic-equality",
   "metadata": {
    "scrolled": true
   },
   "outputs": [],
   "source": [
    "cre_rec.STATUS.value_counts()"
   ]
  },
  {
   "cell_type": "markdown",
   "id": "disabled-stage",
   "metadata": {},
   "source": [
    "# C - Merge the Data Sets"
   ]
  },
  {
   "cell_type": "code",
   "execution_count": null,
   "id": "ultimate-british",
   "metadata": {},
   "outputs": [],
   "source": [
    "data = pd.merge(app_rec,cre_rec)"
   ]
  },
  {
   "cell_type": "code",
   "execution_count": null,
   "id": "passing-technician",
   "metadata": {},
   "outputs": [],
   "source": [
    "data"
   ]
  },
  {
   "cell_type": "code",
   "execution_count": null,
   "id": "protective-private",
   "metadata": {},
   "outputs": [],
   "source": [
    "# Merge 2 datasets based on the id"
   ]
  },
  {
   "cell_type": "code",
   "execution_count": null,
   "id": "nonprofit-radical",
   "metadata": {},
   "outputs": [],
   "source": [
    "#Save the Cleaned Data"
   ]
  },
  {
   "cell_type": "markdown",
   "id": "blessed-premiere",
   "metadata": {},
   "source": [
    "# D - Model Development"
   ]
  },
  {
   "cell_type": "code",
   "execution_count": null,
   "id": "sunset-bulgarian",
   "metadata": {},
   "outputs": [],
   "source": [
    "# Reload the Cleaned Data"
   ]
  },
  {
   "cell_type": "code",
   "execution_count": null,
   "id": "attempted-september",
   "metadata": {},
   "outputs": [],
   "source": [
    "#Reload the Cleaned Data"
   ]
  },
  {
   "cell_type": "code",
   "execution_count": null,
   "id": "institutional-cycle",
   "metadata": {},
   "outputs": [],
   "source": [
    "#Load Required librarys\n",
    "import sklearn "
   ]
  },
  {
   "cell_type": "code",
   "execution_count": null,
   "id": "reflected-honey",
   "metadata": {},
   "outputs": [],
   "source": [
    "#train model 1"
   ]
  },
  {
   "cell_type": "code",
   "execution_count": null,
   "id": "caring-copper",
   "metadata": {},
   "outputs": [],
   "source": [
    "#Test model 1"
   ]
  },
  {
   "cell_type": "code",
   "execution_count": null,
   "id": "adapted-transfer",
   "metadata": {},
   "outputs": [],
   "source": [
    "#evaluate model 1"
   ]
  },
  {
   "cell_type": "code",
   "execution_count": null,
   "id": "final-vatican",
   "metadata": {},
   "outputs": [],
   "source": [
    "pwd"
   ]
  },
  {
   "cell_type": "code",
   "execution_count": null,
   "id": "collective-amber",
   "metadata": {},
   "outputs": [],
   "source": [
    "# test 2 for my project"
   ]
  },
  {
   "cell_type": "code",
   "execution_count": null,
   "id": "27ae3920",
   "metadata": {},
   "outputs": [],
   "source": []
  }
 ],
 "metadata": {
  "kernelspec": {
   "display_name": "Python 3.10.5 64-bit (windows store)",
   "language": "python",
   "name": "python3"
  },
  "language_info": {
   "codemirror_mode": {
    "name": "ipython",
    "version": 3
   },
   "file_extension": ".py",
   "mimetype": "text/x-python",
   "name": "python",
   "nbconvert_exporter": "python",
   "pygments_lexer": "ipython3",
   "version": "3.10.6"
  },
  "vscode": {
   "interpreter": {
    "hash": "a9c4a9667516ab3510cdc69a21f03234607c83b7b3f032001b192581638fb31e"
   }
  }
 },
 "nbformat": 4,
 "nbformat_minor": 5
}
