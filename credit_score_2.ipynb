{
 "cells": [
  {
   "cell_type": "code",
   "execution_count": null,
   "id": "future-manner",
   "metadata": {},
   "outputs": [],
   "source": [
    "# Load required libraries\n",
    "import pandas as pd\n",
    "import numpy as np\n",
    "import matplotlib.pyplot as plt\n",
    "import seaborn as sns\n",
    "from tqdm import tqdm\n",
    "tqdm.pandas()"
   ]
  },
  {
   "cell_type": "code",
   "execution_count": null,
   "id": "bronze-recall",
   "metadata": {},
   "outputs": [],
   "source": [
    "# Load 2 data sets\n",
    "app_rec = pd.read_csv(r'C:\\Users\\shaha\\OneDrive\\Documents\\credit_score\\application_record.csv')\n",
    "\n",
    "cre_rec = pd.read_csv(r'C:\\Users\\shaha\\OneDrive\\Documents\\credit_score\\credit_record.csv')"
   ]
  },
  {
   "cell_type": "code",
   "execution_count": null,
   "id": "young-device",
   "metadata": {},
   "outputs": [],
   "source": [
    "# Check the size of each data set\n",
    "print(app_rec.shape)\n",
    "print(cre_rec.shape)"
   ]
  },
  {
   "cell_type": "markdown",
   "id": "a9b6cd37",
   "metadata": {},
   "source": [
    "# Data Exploration"
   ]
  },
  {
   "cell_type": "code",
   "execution_count": null,
   "id": "compatible-housing",
   "metadata": {
    "scrolled": false
   },
   "outputs": [],
   "source": [
    "# To Evaluate Columns' Name:\n",
    "app_rec.columns.to_list()"
   ]
  },
  {
   "cell_type": "code",
   "execution_count": null,
   "id": "statistical-affair",
   "metadata": {},
   "outputs": [],
   "source": [
    "# Print first few raws of data and check them visually:\n",
    "app_rec.head(5)"
   ]
  },
  {
   "cell_type": "code",
   "execution_count": null,
   "id": "complimentary-brazil",
   "metadata": {
    "scrolled": true
   },
   "outputs": [],
   "source": [
    "# To Evaluate Data Type and Size:\n",
    "app_rec.info()"
   ]
  },
  {
   "cell_type": "raw",
   "id": "c34e50ea",
   "metadata": {},
   "source": [
    "Notes:\n",
    "1) ID is int64 and should be changed to object format. (see the Data Cleaning)\n",
    "2) FLAG_OWN_CAR,FLAG_OWN_REALTY are object type and FLAG_Mobile, FLAG_WORK_PHONE, FLAG_PHONE, FLAG_EMAIL are numerical.\n",
    "    2.a Final decision: Since we have just 0 and 1 in 'FLAG_MOBIL', 'FLAG_WORK_PHONE', 'FLAG_PHONE', 'FLAG_EMAIL columns, we can stay with 0/1 int64 data type.\n",
    "3) We have missing values for OCCUPATION_TYPE."
   ]
  },
  {
   "cell_type": "raw",
   "id": "7c1b4117",
   "metadata": {},
   "source": [
    "sns.pairplot(app_rec.drop('ID', axis = 1))"
   ]
  },
  {
   "cell_type": "code",
   "execution_count": null,
   "id": "proud-family",
   "metadata": {},
   "outputs": [],
   "source": [
    "print(app_rec.CODE_GENDER.unique())\n",
    "print(app_rec.FLAG_OWN_CAR.unique())\n",
    "print(app_rec.FLAG_OWN_REALTY.unique())\n",
    "print(app_rec.NAME_INCOME_TYPE.unique())\n",
    "print(app_rec.NAME_EDUCATION_TYPE.unique())\n",
    "print(app_rec.NAME_FAMILY_STATUS.unique())\n",
    "print(app_rec.NAME_HOUSING_TYPE.unique())\n",
    "\n",
    "# Create a for loop for visualization of frequency of items in each aforementioned columns\n",
    "for var in [\"CODE_GENDER\",\"FLAG_OWN_CAR\",\t\"FLAG_OWN_REALTY\", 'NAME_EDUCATION_TYPE', 'NAME_INCOME_TYPE',   'NAME_FAMILY_STATUS',  'NAME_HOUSING_TYPE']:\n",
    "    # countplt, ax = plt.subplots(figsize = (10,7))\n",
    "    plt.rcParams[\"figure.figsize\"] = [10, 8]\n",
    "    plt.rcParams[\"figure.autolayout\"] = True\n",
    "    ax = sns.countplot(x =var, data = app_rec)\n",
    "    ax.set_title(var,fontsize = 18, fontweight='bold' )\n",
    "    ax.bar_label(ax.containers[0])\n",
    "    ax.set_xlabel(var, fontsize = 15)\n",
    "    ax.set_ylabel('count', fontsize = 15)\n",
    "    plt.show()"
   ]
  },
  {
   "cell_type": "code",
   "execution_count": null,
   "id": "resistant-jerusalem",
   "metadata": {},
   "outputs": [],
   "source": [
    "#Check the Numeric fields\n",
    "app_rec.describe().T"
   ]
  },
  {
   "cell_type": "code",
   "execution_count": null,
   "id": "5b721899",
   "metadata": {},
   "outputs": [],
   "source": [
    "for var in ['CNT_CHILDREN']:  # It doenot have so much variables range!\n",
    "    countplt, ax = plt.subplots(figsize = (10,7))\n",
    "    plt.rcParams[\"figure.figsize\"] = [10, 7]\n",
    "    plt.rcParams[\"figure.autolayout\"] = True\n",
    "    ax =  sns.countplot(x=var, data = app_rec)\n",
    "    ax.set_title(var,fontsize = 18, fontweight='bold' )\n",
    "    ax.bar_label(ax.containers[0])\n",
    "    ax.set_xlabel(var, fontsize = 15)\n",
    "    ax.set_ylabel('count', fontsize = 15)\n",
    "    plt.show()\n",
    "\n",
    "# My Graphs does not work correctly. Question from Saee: WHat I should do for th barplot?"
   ]
  },
  {
   "cell_type": "code",
   "execution_count": null,
   "id": "3583afce",
   "metadata": {},
   "outputs": [],
   "source": [
    "for var in ['AMT_INCOME_TOTAL',  'DAYS_EMPLOYED']:   # These 2 columns have a whide range of numerical values!\n",
    "    # countplt, ax = plt.subplots(figsize = (10,7))\n",
    "    plt.rcParams[\"figure.figsize\"] = [18, 5]\n",
    "    plt.rcParams[\"figure.autolayout\"] = True\n",
    "    ax.set(yscale=\"log\")\n",
    "    ax =  sns.boxplot(app_rec[var])\n",
    "    # ax.set(yscale=\"log\")\n",
    "    ax.set_title(var,fontsize = 18, fontweight='bold' )\n",
    "    # ax.bar_label(ax.containers[0])\n",
    "    ax.set_xlabel(var, fontsize = 15)\n",
    "    ax.set_ylabel('count', fontsize = 15)\n",
    "    plt.show()"
   ]
  },
  {
   "cell_type": "raw",
   "id": "b836ec51",
   "metadata": {},
   "source": [
    "Helpful note from Kaggle for DAYS_EMPLOYED:  Count backwards from current day(0). If positive, it means the person currently unemployed.\n",
    "\n",
    "Note:For DAYS_EMPLOYED, positive value which is 365K means \"Unemployed\". We can replace any positive value with 0 to have a balance field. See the Cleanining part.\n",
    "We have a wide range of Amount Income Total. "
   ]
  },
  {
   "cell_type": "code",
   "execution_count": null,
   "id": "geographic-treatment",
   "metadata": {},
   "outputs": [],
   "source": [
    "#Check Dublicate rows\n",
    "app_rec.duplicated().sum()"
   ]
  },
  {
   "cell_type": "markdown",
   "id": "324959d5",
   "metadata": {},
   "source": [
    "We do not have any dublicated rows. However, we have dublicated IDs:"
   ]
  },
  {
   "cell_type": "code",
   "execution_count": null,
   "id": "measured-empire",
   "metadata": {},
   "outputs": [],
   "source": [
    "app_rec.ID.duplicated().sum()"
   ]
  },
  {
   "cell_type": "code",
   "execution_count": null,
   "id": "89e39a4b",
   "metadata": {},
   "outputs": [],
   "source": [
    "# filter the data to find and evaluate rows with duplicated rows:\n",
    "app_rec_dup_ID = app_rec[app_rec['ID'].duplicated(keep=False) == True].sort_values(by=['ID']).reset_index(drop=True)\n",
    "app_rec_dup_ID"
   ]
  },
  {
   "cell_type": "markdown",
   "id": "07bc11db",
   "metadata": {},
   "source": [
    "Due to the sensitivity of the dublication in ID, as a key, I decided to drop all rows with dublicated IDs.(please see the Cleaning part)"
   ]
  },
  {
   "cell_type": "code",
   "execution_count": null,
   "id": "f5095180",
   "metadata": {},
   "outputs": [],
   "source": [
    "#check Missing Values\n",
    "app_rec.isnull().sum()"
   ]
  },
  {
   "cell_type": "code",
   "execution_count": null,
   "id": "bc780287",
   "metadata": {},
   "outputs": [],
   "source": [
    "# Check the OCCUPATION_Type:\n",
    "\n",
    "# print(\"Number of Missing Values:\", app_rec.OCCUPATION_TYPE.isnull().sum())\n",
    "# app_rec.OCCUPATION_TYPE.value_counts()\n",
    "\n",
    "app_rec.OCCUPATION_TYPE.value_counts(dropna = False)  # The same as above but much more efficient!\n"
   ]
  },
  {
   "cell_type": "raw",
   "id": "5554373f",
   "metadata": {},
   "source": [
    "# Note: We have null value for Occupation type. We need to fill it with \"Other\" in the cleaning part."
   ]
  },
  {
   "cell_type": "markdown",
   "id": "72c8baa9",
   "metadata": {},
   "source": [
    "# Data Cleaning"
   ]
  },
  {
   "cell_type": "code",
   "execution_count": null,
   "id": "20737f3d",
   "metadata": {},
   "outputs": [],
   "source": [
    "# Change the data type of the 'ID' to string data type:\n",
    "columns = ['ID']#,'FLAG_MOBIL', 'FLAG_WORK_PHONE', 'FLAG_PHONE', 'FLAG_EMAIL']\n",
    "for column in columns:\n",
    "    app_rec[column] = app_rec[column].astype(str)\n",
    "    \n",
    "print(app_rec[\"ID\"].dtypes)"
   ]
  },
  {
   "cell_type": "code",
   "execution_count": null,
   "id": "caeae05e",
   "metadata": {},
   "outputs": [],
   "source": [
    "# We can assign \"Other\" for null values. \n",
    "app_rec[\"OCCUPATION_TYPE\"].fillna(\"Other\", inplace = True)"
   ]
  },
  {
   "cell_type": "code",
   "execution_count": null,
   "id": "7c2117a8",
   "metadata": {},
   "outputs": [],
   "source": [
    "#Remove the duplicates values for IDs:\n",
    "app_rec = app_rec.drop_duplicates(subset=['ID']).reset_index(drop=True)"
   ]
  },
  {
   "cell_type": "code",
   "execution_count": null,
   "id": "d3eb0a7b",
   "metadata": {},
   "outputs": [],
   "source": [
    "# Replace any positive value of DAYS_EMPLOYED with 0:\n",
    "app_rec['DAYS_EMPLOYED'] = app_rec['DAYS_EMPLOYED'].apply(lambda x: 0 if x > 0 else x)"
   ]
  },
  {
   "cell_type": "markdown",
   "id": "fbf7e2cf",
   "metadata": {},
   "source": [
    "# Feature Engineering"
   ]
  },
  {
   "cell_type": "code",
   "execution_count": null,
   "id": "manufactured-group",
   "metadata": {},
   "outputs": [],
   "source": [
    "# Create month_employed from DAYS_EMPLOYED.\n",
    "app_rec[\"MONTH_EMPLOYED\"] = (app_rec[\"DAYS_EMPLOYED\"]/30).abs() \n",
    "app_rec[\"MONTH_EMPLOYED\"]  = app_rec[\"MONTH_EMPLOYED\"].apply(np.ceil)\n",
    "app_rec[[\"MONTH_EMPLOYED\",\"DAYS_EMPLOYED\"] ]"
   ]
  },
  {
   "cell_type": "code",
   "execution_count": null,
   "id": "6e28f9f3",
   "metadata": {},
   "outputs": [],
   "source": [
    "# we have outliers in AMT_INCOME_TOTAL. We have 2 choices, either remove the outliers or creat buckets for values based on the 8 percentile groups. \n",
    "# The second option was selected. Since we have mathematical relationship between buckets, we do not need to use onehot encoding technique for \"AMT_INCOME_TOTAL_BUKET\"\n",
    "\n",
    "# Create Buckets based on 8 percentail groups:\n",
    "app_rec['AMT_INCOME_TOTAL_BUKET'], cut_bin = pd.qcut(app_rec['AMT_INCOME_TOTAL'], q = 8, labels = ['1','2','3','4','5','6','7','8'], retbins = True)\n",
    "\n",
    "# Visualize the groups of incomes:\n",
    "for var in ['AMT_INCOME_TOTAL_BUKET']: \n",
    "    # countplt, ax = plt.subplots(figsize = (10,7))\n",
    "    plt.rcParams[\"figure.figsize\"] = [10, 7]\n",
    "    plt.rcParams[\"figure.autolayout\"] = True\n",
    "    sns.set_style(\"darkgrid\")\n",
    "    ax =  sns.countplot(x=var, data = app_rec)\n",
    "    ax.set_title(var,fontsize = 18, fontweight='bold' )\n",
    "    ax.bar_label(ax.containers[0])\n",
    "    ax.set_xlabel(var, fontsize = 15)\n",
    "    ax.set_ylabel('count', fontsize = 15)\n",
    "    plt.show()"
   ]
  },
  {
   "cell_type": "code",
   "execution_count": null,
   "id": "structural-pocket",
   "metadata": {},
   "outputs": [],
   "source": [
    "## Create an employement flag fom DAYS_EMPLOYED.\n",
    "# app_rec['FLAG_EMPLOYED2'] = app_rec['DAYS_EMPLOYED'].apply(lambda x: 1 if x > 0 else 0).astype(str)\n",
    "\n",
    "## New: Bolean based on a condition instrad of code incell ablove.\n",
    "app_rec[\"FLAG_EMPLOYED\"] = app_rec['DAYS_EMPLOYED'] < 0 \n",
    "app_rec.head(10)"
   ]
  },
  {
   "cell_type": "code",
   "execution_count": null,
   "id": "interracial-gardening",
   "metadata": {},
   "outputs": [],
   "source": [
    "# Create Age based on DAYS_BIRTH.\n",
    "app_rec['AGE'] = (app_rec['DAYS_BIRTH']/365).abs().apply(np.floor)\n",
    "app_rec.hist(column='AGE');"
   ]
  },
  {
   "cell_type": "code",
   "execution_count": null,
   "id": "0e585325",
   "metadata": {},
   "outputs": [],
   "source": [
    "# Use OneHot_encoding to create binary values for 4 different fiels (see the above cell):  \n",
    "# SAeed's Comment: We can convert Education Type to numeric because it has mathematical meaning, but Family Status and other should be changed to OneHot Encoding! In this example I kept it in Get Dummy!\n",
    "app_rec = pd.get_dummies(data=app_rec, columns=[\"CODE_GENDER\",\"FLAG_OWN_CAR\",\"FLAG_OWN_REALTY\",\"OCCUPATION_TYPE\",\"NAME_INCOME_TYPE\",\"NAME_EDUCATION_TYPE\",\"NAME_FAMILY_STATUS\",\"NAME_HOUSING_TYPE\"])#.astype(str)"
   ]
  },
  {
   "cell_type": "code",
   "execution_count": null,
   "id": "043da958",
   "metadata": {},
   "outputs": [],
   "source": [
    "app_rec = app_rec.drop(['AMT_INCOME_TOTAL',\"DAYS_EMPLOYED\",'DAYS_BIRTH'],axis = 1)"
   ]
  },
  {
   "cell_type": "code",
   "execution_count": null,
   "id": "35ea25c3",
   "metadata": {},
   "outputs": [],
   "source": [
    "app_rec.to_csv(r'C:\\Users\\shaha\\OneDrive\\Documents\\credit_score\\app_rec_processed.csv', index=False)"
   ]
  },
  {
   "cell_type": "markdown",
   "id": "miniature-wings",
   "metadata": {},
   "source": [
    "# B - cre_rec Data Cleaning & Transforming"
   ]
  },
  {
   "cell_type": "code",
   "execution_count": null,
   "id": "290d3cf6",
   "metadata": {},
   "outputs": [],
   "source": [
    "cre_rec['COUNT'] = cre_rec.groupby('ID')['ID'].transform('count')"
   ]
  },
  {
   "cell_type": "code",
   "execution_count": null,
   "id": "3be77fb5",
   "metadata": {},
   "outputs": [],
   "source": [
    "cre_rec"
   ]
  },
  {
   "cell_type": "code",
   "execution_count": null,
   "id": "e57d730b",
   "metadata": {},
   "outputs": [],
   "source": [
    "cre_rec = cre_rec.loc[cre_rec['COUNT']>12,:].reset_index(drop=True)"
   ]
  },
  {
   "cell_type": "code",
   "execution_count": null,
   "id": "2283d756",
   "metadata": {},
   "outputs": [],
   "source": [
    "cre_rec.ID.nunique()"
   ]
  },
  {
   "cell_type": "code",
   "execution_count": null,
   "id": "024fbaaa",
   "metadata": {},
   "outputs": [],
   "source": [
    "cre_rec.shape"
   ]
  },
  {
   "cell_type": "code",
   "execution_count": null,
   "id": "liberal-anthropology",
   "metadata": {},
   "outputs": [],
   "source": [
    "print(\"Name of the columns:\" ,cre_rec.columns)\n",
    "print(cre_rec.shape)"
   ]
  },
  {
   "cell_type": "code",
   "execution_count": null,
   "id": "d861cb03",
   "metadata": {},
   "outputs": [],
   "source": [
    "ax =  sns.countplot(x='STATUS', data = cre_rec)\n",
    "plt.rcParams[\"figure.figsize\"] = [8, 5]\n",
    "plt.rcParams[\"figure.autolayout\"] = True\n",
    "ax.set_title('STATUS',fontsize = 18, fontweight='bold' )\n",
    "ax.bar_label(ax.containers[0])\n",
    "ax.set_xlabel('STATUS', fontsize = 15)\n",
    "ax.set_ylabel('count', fontsize = 15)\n",
    "plt.show()"
   ]
  },
  {
   "cell_type": "code",
   "execution_count": null,
   "id": "64b2b953",
   "metadata": {},
   "outputs": [],
   "source": [
    "cre_rec['BINARY_STATUS'] = cre_rec['STATUS'].replace(['X','0','C'],0)\n",
    "cre_rec['BINARY_STATUS'] = cre_rec['BINARY_STATUS'].replace(['1','2','3','4','5'],1)"
   ]
  },
  {
   "cell_type": "code",
   "execution_count": null,
   "id": "cbc57cec",
   "metadata": {},
   "outputs": [],
   "source": [
    "ax =  sns.countplot(x='BINARY_STATUS', data = cre_rec)\n",
    "plt.rcParams[\"figure.figsize\"] = [8, 5]\n",
    "plt.rcParams[\"figure.autolayout\"] = True\n",
    "ax.set_title('STATUS',fontsize = 18, fontweight='bold' )\n",
    "ax.bar_label(ax.containers[0])\n",
    "ax.set_xlabel('STATUS', fontsize = 15)\n",
    "ax.set_ylabel('count', fontsize = 15)\n",
    "plt.show()"
   ]
  },
  {
   "cell_type": "code",
   "execution_count": null,
   "id": "f9b33490",
   "metadata": {},
   "outputs": [],
   "source": [
    "cre_rec.info()"
   ]
  },
  {
   "cell_type": "code",
   "execution_count": null,
   "id": "2ad9b4ed",
   "metadata": {},
   "outputs": [],
   "source": [
    "cre_rec.sort_values(by=['ID',\"MONTHS_BALANCE\"], ascending=False)"
   ]
  },
  {
   "cell_type": "code",
   "execution_count": null,
   "id": "914fd9a9",
   "metadata": {},
   "outputs": [],
   "source": [
    "%%time\n",
    "def my_core_Function(CID, TID,Tlag):\n",
    "    try:\n",
    "        Lag_Label = list(cre_rec.loc[(cre_rec[\"ID\"] == CID) & (cre_rec[\"MONTHS_BALANCE\"] == (TID+Tlag)), \"BINARY_STATUS\"])[0]\n",
    "    except:\n",
    "        Lag_Label = np.nan\n",
    "    return Lag_Label"
   ]
  },
  {
   "cell_type": "code",
   "execution_count": null,
   "id": "6ad50d9f",
   "metadata": {},
   "outputs": [],
   "source": [
    "# Create a lable column by applying the function into the dataframe.\n",
    "# progress_apply is the same as apply, but it shows the progressbar which is very helpful to monitor the progress, specially for large dataframes.\n",
    "\n",
    "cre_rec.loc[:,\"LABEL\"] = cre_rec.progress_apply(lambda x: my_core_Function(x[\"ID\"], x[\"MONTHS_BALANCE\"],3), axis=1)\n"
   ]
  },
  {
   "cell_type": "code",
   "execution_count": null,
   "id": "8ad213df",
   "metadata": {},
   "outputs": [],
   "source": [
    "cre_rec.head(5)"
   ]
  },
  {
   "cell_type": "code",
   "execution_count": null,
   "id": "8d704e22",
   "metadata": {},
   "outputs": [],
   "source": [
    "re_rec.drop(columns = [\"COUNT\"],axis = 1)"
   ]
  },
  {
   "cell_type": "code",
   "execution_count": null,
   "id": "6bfefd22",
   "metadata": {},
   "outputs": [],
   "source": [
    "# Drop rows with NaN value for Labels:\n",
    "cre_rec= cre_rec.dropna(subset=['LABEL']).reset_index(drop=True)\n",
    "\n",
    "# Change the ID to Object data tyoe\n",
    "cre_rec[\"ID\"] = cre_rec[\"ID\"].astype(str)\n",
    "cre_rec"
   ]
  },
  {
   "cell_type": "code",
   "execution_count": null,
   "id": "2c3d7a1a",
   "metadata": {},
   "outputs": [],
   "source": [
    "# Saved the processed data.\n",
    "cre_rec.to_csv(r'C:\\Users\\shaha\\OneDrive\\Documents\\credit_score\\credit_record_processed.csv', index=False)"
   ]
  },
  {
   "cell_type": "markdown",
   "id": "disabled-stage",
   "metadata": {},
   "source": [
    "# C - Merge the Data Sets"
   ]
  },
  {
   "cell_type": "code",
   "execution_count": null,
   "id": "future-manner",
   "metadata": {},
   "outputs": [],
   "source": [
    "# Load required libraries\n",
    "import pandas as pd\n",
    "import numpy as np\n",
    "import matplotlib.pyplot as plt\n",
    "import seaborn as sns\n",
    "from tqdm import tqdm\n",
    "tqdm.pandas()"
   ]
  },
  {
   "cell_type": "code",
   "execution_count": null,
   "id": "c7fe1b5f",
   "metadata": {},
   "outputs": [],
   "source": [
    "# Read the saved data\n",
    "app_rec_prcd = pd.read_csv(r'C:\\Users\\shaha\\OneDrive\\Documents\\credit_score\\app_rec_processed.csv')\n",
    "cre_rec_prcd = pd.read_csv(r'C:\\Users\\shaha\\OneDrive\\Documents\\credit_score\\credit_record_processed.csv')"
   ]
  },
  {
   "cell_type": "code",
   "execution_count": null,
   "id": "1ccda812",
   "metadata": {},
   "outputs": [],
   "source": [
    "print(app_rec_prcd.shape)\n",
    "print(cre_rec_prcd.shape)"
   ]
  },
  {
   "cell_type": "code",
   "execution_count": null,
   "id": "891bfdd6",
   "metadata": {},
   "outputs": [],
   "source": [
    "ax =  sns.countplot(x='LABEL', data = cre_rec_prcd)\n",
    "plt.rcParams[\"figure.figsize\"] = [8, 5]\n",
    "plt.rcParams[\"figure.autolayout\"] = True\n",
    "ax.set_title('STATUS',fontsize = 18, fontweight='bold' )\n",
    "ax.bar_label(ax.containers[0])\n",
    "ax.set_xlabel('STATUS', fontsize = 15)\n",
    "ax.set_ylabel('count', fontsize = 15)\n",
    "plt.show()"
   ]
  },
  {
   "cell_type": "code",
   "execution_count": null,
   "metadata": {},
   "outputs": [],
   "source": [
    "app_rec_prcd"
   ]
  },
  {
   "cell_type": "code",
   "execution_count": null,
   "id": "eb2730af",
   "metadata": {},
   "outputs": [],
   "source": [
    "# Merge 2 datasets based on the id\n",
    "data = pd.merge(app_rec_prcd,cre_rec_prcd,on='ID',how='inner').reset_index(drop=True)"
   ]
  },
  {
   "cell_type": "code",
   "execution_count": null,
   "id": "db87c8f0",
   "metadata": {},
   "outputs": [],
   "source": [
    "data"
   ]
  },
  {
   "cell_type": "code",
   "execution_count": null,
   "id": "8f89c1b7",
   "metadata": {},
   "outputs": [],
   "source": [
    "data = data.set_index([\"ID\", \"MONTHS_BALANCE\"])  # \n",
    "data"
   ]
  },
  {
   "cell_type": "markdown",
   "id": "be678931",
   "metadata": {},
   "source": [
    "question for Saeed: why we created multi index with these 2 columns?"
   ]
  },
  {
   "cell_type": "code",
   "execution_count": null,
   "id": "859a9044",
   "metadata": {},
   "outputs": [],
   "source": [
    "#Save the Cleaned Data\n",
    "data.to_csv(r'C:\\Users\\shaha\\OneDrive\\Documents\\credit_score\\Final_Data.csv')"
   ]
  },
  {
   "cell_type": "markdown",
   "id": "blessed-premiere",
   "metadata": {},
   "source": [
    "# D - Model Development"
   ]
  },
  {
   "cell_type": "code",
   "execution_count": null,
   "id": "5e62ba63",
   "metadata": {},
   "outputs": [],
   "source": [
    "# Load required libraries\n",
    "import pandas as pd\n",
    "import numpy as np\n",
    "import matplotlib.pyplot as plt\n",
    "import seaborn as sns\n",
    "from tqdm import tqdm\n",
    "tqdm.pandas()"
   ]
  },
  {
   "cell_type": "code",
   "execution_count": null,
   "id": "sunset-bulgarian",
   "metadata": {},
   "outputs": [],
   "source": [
    "# Reload the Cleaned Data\n",
    "data = pd.read_csv(r'C:\\Users\\shaha\\OneDrive\\Documents\\credit_score\\Final_Data.csv')"
   ]
  },
  {
   "cell_type": "code",
   "execution_count": null,
   "id": "edf76efa",
   "metadata": {},
   "outputs": [],
   "source": [
    "data.columns"
   ]
  },
  {
   "cell_type": "code",
   "execution_count": null,
   "id": "d21ae038",
   "metadata": {},
   "outputs": [],
   "source": [
    "data.shape"
   ]
  },
  {
   "cell_type": "code",
   "execution_count": null,
   "id": "0ffcda0b",
   "metadata": {},
   "outputs": [],
   "source": [
    "# Use numpy to convert to arrays\n",
    "import numpy as np\n",
    "# Labels are the values we want to predict\n",
    "labels = data.iloc[:,-1].astype(float) #or\"float64\"\n",
    "# Remove the labels from the features\n",
    "# axis 1 refers to the columns\n",
    "\n",
    "features = data.iloc[:,1:61]\n",
    "features= data.drop(['LABEL','STATUS'], axis = 1) # , 'COUNT',    \n",
    "# Saving feature names for later use\n",
    "feature_list = list(features.columns)\n",
    "\n",
    "# should be carefull for float values. we need decimals if we have.\n"
   ]
  },
  {
   "cell_type": "code",
   "execution_count": null,
   "id": "a03e645f",
   "metadata": {},
   "outputs": [],
   "source": [
    "data.head()"
   ]
  },
  {
   "cell_type": "code",
   "execution_count": null,
   "id": "aa7d910d",
   "metadata": {},
   "outputs": [],
   "source": [
    "# feature_list"
   ]
  },
  {
   "cell_type": "markdown",
   "id": "48083ec2",
   "metadata": {},
   "source": [
    "sampling on time- last 2 month for test and the rest for training - Time sampling\n",
    "\n",
    "\n",
    "sampling on Customer (CID)"
   ]
  },
  {
   "cell_type": "code",
   "execution_count": null,
   "id": "0df2223e",
   "metadata": {},
   "outputs": [],
   "source": [
    "# Using Skicit-learn to split data into training and testing sets\n",
    "from sklearn.model_selection import train_test_split\n",
    "# Split the data into training and testing sets\n",
    "x_train, x_test, y_train, y_test = train_test_split(features, labels, test_size = 0.25, random_state = 42)   # Should i go for stratify = lable? NO!"
   ]
  },
  {
   "cell_type": "code",
   "execution_count": null,
   "id": "de9673aa",
   "metadata": {},
   "outputs": [],
   "source": [
    "print('Training Features Shape:', x_train.shape)\n",
    "print('Training Labels Shape:', y_train.shape)   #no value because it is a \n",
    "print('Testing Features Shape:', x_test.shape)\n",
    "print('Testing Labels Shape:', y_test.shape)"
   ]
  },
  {
   "cell_type": "code",
   "execution_count": null,
   "id": "903a578a",
   "metadata": {},
   "outputs": [],
   "source": [
    "type(y_train) ,type(y_test)"
   ]
  },
  {
   "cell_type": "code",
   "execution_count": null,
   "id": "44d3584e",
   "metadata": {},
   "outputs": [],
   "source": [
    "# Import the model we are using\n",
    "from sklearn.ensemble import RandomForestClassifier                               ##Q for Saeed : ensemble? why this package?  Advice: https://scikit-learn.org/stable/modules/classes.html#module-sklearn.ensemble\n",
    "# Instantiate model with 10 decision trees\n",
    "rf_model = RandomForestClassifier(n_estimators = 20, verbose=2) #(n_estimators = 10, random_state = 42) later on we can be back to tune the model\n",
    "# Train the model on training data\n",
    "rf_model.fit(x_test, y_test)\n",
    "y_predict = rf_model.predict(x_test)"
   ]
  },
  {
   "cell_type": "code",
   "execution_count": null,
   "id": "7d693a2e",
   "metadata": {},
   "outputs": [],
   "source": [
    "rf_model.score(x_test, y_test)"
   ]
  },
  {
   "cell_type": "code",
   "execution_count": null,
   "id": "3265d529",
   "metadata": {},
   "outputs": [],
   "source": [
    "y_predict = rf_model.predict(x_test)\n",
    "y_predict"
   ]
  },
  {
   "cell_type": "code",
   "execution_count": null,
   "id": "82ea480e",
   "metadata": {},
   "outputs": [],
   "source": [
    "a = x_train.sample(1)\n",
    "rf_model.predict(a)"
   ]
  },
  {
   "cell_type": "code",
   "execution_count": null,
   "id": "e921c154",
   "metadata": {},
   "outputs": [],
   "source": [
    "n_estimators = np.arange(1,5)\n",
    "test_acuracy = np.empty(len(n_estimators))\n",
    "train_acuracy = np.empty(len(n_estimators))\n",
    "\n",
    "\n",
    "for i, k in enumerate(n_estimators):\n",
    "    rf_model = RandomForestClassifier(n_estimators=k, verbose=2)     #What is better than verbose? it make the notebook too busy.\n",
    "    rf_model.fit(x_train, y_train)\n",
    "    test_acuracy[i] = rf_model.score(x_test,y_test)\n",
    "    train_acuracy[i] = rf_model.score(x_train,y_train)\n",
    "\n",
    "plt.plot(n_estimators,test_acuracy, label = \"test_acuracy\")\n",
    "plt.plot(n_estimators,train_acuracy, label = \"train_acuracy\")\n",
    "plt.legend()\n",
    "plt.xlabel('Number of n_estimators')\n",
    "plt.ylabel(\"Accuracy\")\n",
    "plt.show()"
   ]
  },
  {
   "cell_type": "markdown",
   "id": "6d5952e3",
   "metadata": {},
   "source": [
    "# Evaluation"
   ]
  },
  {
   "cell_type": "raw",
   "id": "4aa23adc",
   "metadata": {},
   "source": [
    "ROC curve summarizes the performance by combining confusion matrices at all threshold values. \n",
    "AUC turns the ROC curve into a numeric representation of performance for a binary classifier. AUC is the area under the ROC curve and takes a value between 0 and 1.\n",
    "AUC isn't the same thing as accuracy."
   ]
  },
  {
   "cell_type": "code",
   "execution_count": null,
   "id": "070c4103",
   "metadata": {},
   "outputs": [],
   "source": [
    "from sklearn.metrics import confusion_matrix, classification_report"
   ]
  },
  {
   "cell_type": "code",
   "execution_count": null,
   "id": "6520a065",
   "metadata": {},
   "outputs": [],
   "source": [
    "cm = confusion_matrix(y_test,y_predict)\n",
    "cr = classification_report(y_test,y_predict)\n",
    "\n",
    "print(cm)\n",
    "print(cr)"
   ]
  },
  {
   "cell_type": "code",
   "execution_count": null,
   "id": "f549a191",
   "metadata": {},
   "outputs": [],
   "source": [
    "from sklearn.preprocessing import normalize\n",
    "n_cm = normalize(cm, norm=\"l2\", axis = 1)\n",
    "n_cm"
   ]
  },
  {
   "cell_type": "code",
   "execution_count": null,
   "id": "45284dab",
   "metadata": {},
   "outputs": [],
   "source": [
    "cm_df = pd.DataFrame(n_cm)\n",
    "cm_df"
   ]
  },
  {
   "cell_type": "code",
   "execution_count": null,
   "id": "d80b02c8",
   "metadata": {},
   "outputs": [],
   "source": [
    "#Roc Curve\n",
    "from sklearn.metrics import roc_curve\n",
    "y_pred_ptob = rf_model.predict_proba(x_test)"
   ]
  },
  {
   "cell_type": "code",
   "execution_count": null,
   "id": "06be03f7",
   "metadata": {},
   "outputs": [],
   "source": [
    "y_pred_prob = rf_model.predict_proba(x_test)[:,1]\n",
    "fpr, tpr, thresholdss = roc_curve(y_test, y_pred_prob)\n",
    "plt.plot([0,1],[0,1],\"k--\")\n",
    "plt.plot(fpr,tpr)\n",
    "\n",
    "plt.xlabel('TPR')\n",
    "plt.ylabel('FPR')\n",
    "plt.show()\n",
    "\n",
    "print('fpr')\n",
    "print('tpr')\n",
    "print('thresholds')"
   ]
  },
  {
   "cell_type": "code",
   "execution_count": null,
   "metadata": {},
   "outputs": [],
   "source": [
    "from sklearn.metrics import roc_auc_score\n",
    "roc_auc_score(y_test, y_pred_prob)\n"
   ]
  },
  {
   "cell_type": "markdown",
   "id": "b352d11f",
   "metadata": {},
   "source": [
    "# Grid Search Cross Validation"
   ]
  },
  {
   "cell_type": "code",
   "execution_count": null,
   "id": "8d433464",
   "metadata": {},
   "outputs": [],
   "source": [
    "\n",
    "\n",
    "from sklearn.model_selection import GridSearchCV\n",
    "param_grid = {\"n_estimators\": np.arange(0,5)}"
   ]
  },
  {
   "cell_type": "raw",
   "id": "4c7d523e",
   "metadata": {},
   "source": [
    "rf = RandomForestClassifier()\n",
    "rf_cv = GridSearchCV(rf,param_grid, cv = 10)\n",
    "rf_cv.fit(features,labels)"
   ]
  },
  {
   "cell_type": "code",
   "execution_count": null,
   "id": "9db3fada",
   "metadata": {},
   "outputs": [],
   "source": [
    "print(rf_cv.best_params_)\n",
    "print(rf_cv.best_score_)"
   ]
  },
  {
   "cell_type": "code",
   "execution_count": null,
   "id": "bc155602",
   "metadata": {},
   "outputs": [],
   "source": [
    "from IPython.display import Image\n",
    "Image(url=\"Confusion Matrix Interpretation.png\", width=700, height=700)"
   ]
  },
  {
   "cell_type": "markdown",
   "id": "06ffa49c",
   "metadata": {},
   "source": [
    "# ROC CURVE MANUAL CALCULATION"
   ]
  },
  {
   "cell_type": "code",
   "execution_count": null,
   "id": "9cbff114",
   "metadata": {},
   "outputs": [],
   "source": [
    "y_pred_prob = rf_model.predict_proba(features)[:,1]\n",
    "# y_pred_prob\n",
    "df = pd.DataFrame(y_pred_prob, columns = ['predicted'])\n",
    "df['actual'] = labels\n",
    "# df.to_csv(r'C:\\Users\\shaha\\OneDrive\\Documents\\credit_score\\test.csv')"
   ]
  },
  {
   "cell_type": "code",
   "execution_count": null,
   "id": "4e17dd79",
   "metadata": {},
   "outputs": [],
   "source": [
    "# df = df.iloc[:50000,:]\n",
    "thresholds = (np.arange(0,105,5)/100).tolist()\n",
    "roc_scores = []\n",
    "for threshold in tqdm(thresholds):\n",
    "    tp = 0\n",
    "    tn = 0\n",
    "    fp = 0\n",
    "    fn = 0\n",
    "    for index, value in df.iterrows():\n",
    "        actual = value['actual']\n",
    "        predicted = value['predicted']\n",
    "        # print(actual, predicted)\n",
    "\n",
    "        if predicted >= threshold:\n",
    "            prediction_class = 1\n",
    "        else:\n",
    "            prediction_class = 0\n",
    "\n",
    "        if prediction_class ==1   and  actual == 1:\n",
    "            tp = tp + 1\n",
    "        elif prediction_class ==1 and actual == 0:\n",
    "            fp = fp + 1\n",
    "        elif prediction_class ==0 and actual == 1:\n",
    "            fn = fn + 1\n",
    "        elif prediction_class ==0 and actual == 0:\n",
    "            tn = tn + 1\n",
    "        # print(tp,tn,fn,tn)\n",
    "\n",
    "    TPR = tp / (tp+fn)\n",
    "    FPR = fp / (fp+tn)\n",
    "    # print(TPR, FPR)\n",
    "    roc_scores.append([TPR, FPR])\n"
   ]
  },
  {
   "cell_type": "code",
   "execution_count": null,
   "id": "52e09ff0",
   "metadata": {},
   "outputs": [],
   "source": [
    "pivot = pd.DataFrame(roc_scores, columns= [\"x\",\"y\"])\n",
    "pivot['threshold'] = thresholds\n",
    "pivot"
   ]
  },
  {
   "cell_type": "code",
   "execution_count": null,
   "id": "06795c93",
   "metadata": {},
   "outputs": [],
   "source": [
    "# import matplotlib.payplot as plt\n",
    "plt.scatter(pivot.y, pivot.x)\n",
    "plt.plot([0,1])\n",
    "plt.xlabel(\"FPR\")\n",
    "plt.ylabel(\"TPR\")"
   ]
  },
  {
   "cell_type": "code",
   "execution_count": null,
   "id": "c9c8746d",
   "metadata": {},
   "outputs": [],
   "source": [
    "from numpy import trapz\n",
    "abs(np.trapz(pivot.y, pivot.x))"
   ]
  },
  {
   "cell_type": "markdown",
   "id": "39d26b89",
   "metadata": {},
   "source": [
    "Feature Importance"
   ]
  },
  {
   "cell_type": "code",
   "execution_count": null,
   "id": "3e1ba116",
   "metadata": {},
   "outputs": [],
   "source": [
    "ft_imp = pd.DataFrame({\"variable\" = var_colum. \"importance\"})"
   ]
  },
  {
   "cell_type": "markdown",
   "id": "6dfd9d6d",
   "metadata": {},
   "source": [
    "# XGBOOST Model"
   ]
  },
  {
   "cell_type": "code",
   "execution_count": null,
   "id": "d8f7374a",
   "metadata": {},
   "outputs": [],
   "source": [
    "# Reload the Cleaned Data\n",
    "data = pd.read_csv(r'C:\\Users\\shaha\\OneDrive\\Documents\\credit_score\\Final_Data.csv')"
   ]
  },
  {
   "cell_type": "code",
   "execution_count": null,
   "id": "d05974f1",
   "metadata": {},
   "outputs": [],
   "source": [
    "# pd.set_option(\"display.max_columns\", 100)\n",
    "# pd.options.display.max_columns = 500 \n",
    "# pd.options.display.max_rows = 999\n",
    "print(data.columns.values)\n"
   ]
  },
  {
   "cell_type": "code",
   "execution_count": null,
   "id": "d7fe746a",
   "metadata": {},
   "outputs": [],
   "source": [
    "data.FLAG_MOBIL.value_counts()"
   ]
  },
  {
   "cell_type": "code",
   "execution_count": null,
   "id": "71b67fff",
   "metadata": {},
   "outputs": [],
   "source": [
    "plt.rcParams[\"figure.figsize\"] = [20,15]\n",
    "# sns.set(rc={\"figure.figsize\":(3, 4)})\n",
    "ax = sns.heatmap(data.corr())\n"
   ]
  },
  {
   "cell_type": "code",
   "execution_count": null,
   "id": "a3bfbdbe",
   "metadata": {},
   "outputs": [],
   "source": [
    "# Features for dynamic of currents - Binary status for last 3 monthes"
   ]
  },
  {
   "cell_type": "code",
   "execution_count": null,
   "metadata": {},
   "outputs": [],
   "source": [
    "import pandas as pd\n",
    "import numpy as np\n",
    "import xgboost\n",
    "import catboost\n",
    "from sklearn.model_selection import train_test_split\n",
    "from sklearn.model_selection import GridSearchCV\n",
    "from sklearn.metrics import roc_auc_score\n",
    "\n",
    "import matplotlib.pyplot as plt"
   ]
  },
  {
   "cell_type": "code",
   "execution_count": null,
   "id": "22ffaace",
   "metadata": {},
   "outputs": [],
   "source": [
    "y = data.iloc[:,-1].astype(float) #or\"float64\"\n",
    "# Remove the labels from the features\n",
    "# axis 1 refers to the columns\n",
    "\n",
    "X = data.iloc[:,1:61]\n",
    "X= data.drop(['LABEL','STATUS'], axis = 1) # , 'COUNT',    \n",
    "# Saving feature names for later use\n",
    "X_list = list(X.columns)\n",
    "\n",
    "# should be carefull for float values. we need decimals if we have."
   ]
  },
  {
   "cell_type": "code",
   "execution_count": null,
   "metadata": {},
   "outputs": [],
   "source": [
    "x_train, x_test, y_train, y_test = train_test_split(X, y, test_size = 0.25, random_state = 42)"
   ]
  },
  {
   "cell_type": "raw",
   "id": "f87994f3",
   "metadata": {},
   "source": [
    "# Create XGBOOST Model\n",
    "\n",
    "xgboost.XGBClassifier().get_params()"
   ]
  },
  {
   "cell_type": "code",
   "execution_count": null,
   "id": "d53f2f8d",
   "metadata": {},
   "outputs": [],
   "source": [
    "xgboost_simple = xgboost.XGBClassifier( verbosity = 2)"
   ]
  },
  {
   "cell_type": "raw",
   "id": "b6027bc5",
   "metadata": {},
   "source": [
    "xgboost_model = xgboost.XGBClassifier(learning_rate = 0.1,\n",
    "                                     max_depth = 5,\n",
    "                                     n_estimator = 5000,\n",
    "                                     subsample = 0.5,\n",
    "                                     colsample_bytree = 0.5,\n",
    "                                     eval_metric = 'auc',\n",
    "                                     verbosity = 1)"
   ]
  },
  {
   "cell_type": "code",
   "execution_count": null,
   "id": "4f467f5b",
   "metadata": {},
   "outputs": [],
   "source": [
    "eval_set = [(x_test, y_test)]\n",
    "\n",
    "xgboost_simple.fit(x_train,y_train, early_stopping_rounds = 10, eval_set = eval_set, verbose = True)"
   ]
  },
  {
   "cell_type": "code",
   "execution_count": null,
   "id": "3269ba44",
   "metadata": {},
   "outputs": [],
   "source": [
    "#Roc Curve\n",
    "from sklearn.metrics import roc_curve\n",
    "y_pred_ptob = xgboost_simple.predict_proba(x_test)"
   ]
  },
  {
   "cell_type": "code",
   "execution_count": null,
   "id": "3c870aa8",
   "metadata": {},
   "outputs": [],
   "source": [
    "y_pred_prob = xgboost_simple.predict_proba(x_test)[:,1]\n",
    "fpr, tpr, thresholds = roc_curve(y_test, y_pred_prob)\n",
    "plt.plot([0,1],[0,1],\"k--\")\n",
    "plt.plot(fpr,tpr)\n",
    "\n",
    "plt.xlabel('TPR')\n",
    "plt.ylabel('FPR')\n",
    "plt.show()\n",
    "\n",
    "print('fpr')\n",
    "print('tpr')\n",
    "print('thresholds')"
   ]
  },
  {
   "cell_type": "code",
   "execution_count": null,
   "id": "35fd4763",
   "metadata": {},
   "outputs": [],
   "source": [
    "# XGBOOST MODEL VALIDATION\n",
    "y_train_pred  = xgboost_simple.predict_proba(x_train)[:,1]  # why we should get the second value?\n",
    "y_test_pred   = xgboost_simple.predict_proba(x_test)[:,1]\n",
    "AUC_train = roc_auc_score(y_train, y_train_pred)\n",
    "AUC_test  = roc_auc_score(y_test, y_test_pred)"
   ]
  },
  {
   "cell_type": "code",
   "execution_count": null,
   "id": "5b7fb0f9",
   "metadata": {},
   "outputs": [],
   "source": [
    "print(AUC_train)\n",
    "print(AUC_test)"
   ]
  },
  {
   "cell_type": "code",
   "execution_count": null,
   "id": "fe01f54d",
   "metadata": {},
   "outputs": [],
   "source": [
    "print(\"AUC TRAIN: {:.4f}\\nAUC TEST: {:.4f}\".format(roc_auc_score(y_train, y_train_pred), roc_auc_score(y_test, y_test_pred)))"
   ]
  },
  {
   "cell_type": "markdown",
   "id": "3dde5d72",
   "metadata": {},
   "source": [
    "# Hyperparameter Tuning"
   ]
  },
  {
   "cell_type": "code",
   "execution_count": null,
   "id": "1fa0c264",
   "metadata": {},
   "outputs": [],
   "source": [
    "learning_rate_list = [0.02,0.05]#,0.1]\n",
    "max_depth_list = [2,3,5] \n",
    "n_estimator_list =[1000,2000]#,3000]\n",
    "\n",
    "\n",
    "params_dict = {\n",
    "                \"learning_rate_list\":learning_rate_list,\n",
    "                \"max_depth_list\":max_depth_list,\n",
    "                \"n_estimator_list\":n_estimator_list,}\n",
    "                # \"subsample_list\":subsample_list,\n",
    "                # \"colsample_bytree_list\":colsample_bytree_list}\n",
    "\n",
    "num_combination = 1\n",
    "for v in params_dict.values():\n",
    "    print(len(v))\n",
    "    num_combination *= len(v)\n",
    "\n",
    "print(num_combination)\n",
    "params_dict"
   ]
  },
  {
   "cell_type": "code",
   "execution_count": null,
   "id": "61842e47",
   "metadata": {},
   "outputs": [],
   "source": [
    "# def my_roc_auc_score (model, X, y):\n",
    "#     return (y, model.predict_proba(X)[:,1])\n",
    "\n",
    "model_xgboost_hp = GridSearchCV(estimator = xgboost.XGBClassifier(subsample = 0.5, \n",
    "                                                                    colsample_bytree = 0.25, \n",
    "                                                                    eval_metric='auc', \n",
    "                                                                    use_label_encoder = False),\n",
    "                                                param_grid = params_dict, \n",
    "                                                cv = 2,\n",
    "                                                # scoring = my_roc_auc_score, \n",
    "                                                return_train_score = True, \n",
    "                                                verbose = 4)\n",
    "\n",
    "model_xgboost_hp.fit(X, y)"
   ]
  },
  {
   "cell_type": "code",
   "execution_count": null,
   "id": "f576a71f",
   "metadata": {},
   "outputs": [],
   "source": [
    "df_cv_results = pd.DataFrame(model_xgboost_hp.cv_results_)\n",
    "df_cv_results = df_cv_results[['rank_test_score', 'mean_train_score','mean_test_score','param_max_depth_list', 'param_n_estimator_list', 'params']]\n",
    "df_cv_results.sort_values(by = ['rank_test_score'], inplace  = True)\n",
    "df_cv_results"
   ]
  },
  {
   "cell_type": "markdown",
   "id": "73173879",
   "metadata": {},
   "source": [
    "Final Model"
   ]
  },
  {
   "cell_type": "code",
   "execution_count": null,
   "id": "4572ee44",
   "metadata": {},
   "outputs": [],
   "source": [
    "xgboost_model_fin = xgboost.XGBClassifier(learning_rate = 0.05,\n",
    "                                     max_depth = 2,\n",
    "                                     n_estimator = 5000,\n",
    "                                     subsample = 0.5,\n",
    "                                     colsample_bytree = 0.25,\n",
    "                                     eval_metric = 'auc',\n",
    "                                     verbosity = 1\n",
    "                                     ,use_label_encoder = False)"
   ]
  },
  {
   "cell_type": "code",
   "execution_count": null,
   "id": "4d7f5e7b",
   "metadata": {},
   "outputs": [],
   "source": [
    "eval_set = [(x_train, y_train),(x_test,y_test)]\n",
    "\n",
    "xgboost_model_fin.fit(x_train,y_train, early_stopping_rounds=20, eval_set = eval_set, verbose = True)"
   ]
  },
  {
   "cell_type": "code",
   "execution_count": null,
   "id": "d4c7c4cc",
   "metadata": {},
   "outputs": [],
   "source": [
    "#Feature Importance\n",
    "df_var_imp = pd.DataFrame ({\"Variable\": features,\n",
    "                        \"importance\":xgboost_model_fin.XGBClassifier}) "
   ]
  },
  {
   "cell_type": "markdown",
   "id": "dcbbadc7",
   "metadata": {},
   "source": [
    "# CATBOOST"
   ]
  },
  {
   "cell_type": "code",
   "execution_count": null,
   "id": "87f5f4ff",
   "metadata": {},
   "outputs": [],
   "source": [
    "# pip install catboost"
   ]
  },
  {
   "cell_type": "code",
   "execution_count": 1,
   "id": "c7e082f2",
   "metadata": {},
   "outputs": [],
   "source": [
    "import pandas as pd\n",
    "import numpy as np\n",
    "from catboost import CatBoostClassifier\n",
    "from sklearn.model_selection import train_test_split\n",
    "from sklearn.model_selection import GridSearchCV\n",
    "from sklearn.metrics import roc_auc_score\n",
    "\n",
    "import matplotlib.pyplot as plt"
   ]
  },
  {
   "cell_type": "code",
   "execution_count": 2,
   "metadata": {},
   "outputs": [],
   "source": [
    "# Reload the Cleaned Data\n",
    "data = pd.read_csv(r'C:\\Users\\shaha\\OneDrive\\Documents\\credit_score\\Final_Data.csv')"
   ]
  },
  {
   "cell_type": "code",
   "execution_count": 4,
   "id": "22ffaace",
   "metadata": {},
   "outputs": [],
   "source": [
    "y = data.iloc[:,-1].astype(float) #or\"float64\"\n",
    "\n",
    "X = data.iloc[:,1:61]\n",
    "X= data.drop(['LABEL'], axis = 1) # , 'COUNT',    \n",
    "\n",
    "X_list = list(X.columns)\n",
    "\n",
    "# should be carefull for float values. we need decimals if we have."
   ]
  },
  {
   "cell_type": "code",
   "execution_count": 5,
   "id": "1b5a9b55",
   "metadata": {},
   "outputs": [],
   "source": [
    "cat_feature = ['STATUS']"
   ]
  },
  {
   "cell_type": "code",
   "execution_count": 6,
   "id": "9730fe3f",
   "metadata": {},
   "outputs": [],
   "source": [
    "x_train, x_test, y_train, y_test = train_test_split(X, y, test_size = 0.25, random_state = 42)"
   ]
  },
  {
   "cell_type": "code",
   "execution_count": 9,
   "id": "66f1354e",
   "metadata": {},
   "outputs": [],
   "source": [
    "model_cb = CatBoostClassifier(iterations = 100, random_state=42, eval_metric = 'F1')"
   ]
  },
  {
   "cell_type": "code",
   "execution_count": 13,
   "id": "096593bd",
   "metadata": {},
   "outputs": [
    {
     "data": {
      "application/vnd.jupyter.widget-view+json": {
       "model_id": "786ec531d5ef419dbce5366df44e12ac",
       "version_major": 2,
       "version_minor": 0
      },
      "text/plain": [
       "MetricVisualizer(layout=Layout(align_self='stretch', height='500px'))"
      ]
     },
     "metadata": {},
     "output_type": "display_data"
    },
    {
     "name": "stdout",
     "output_type": "stream",
     "text": [
      "Learning rate set to 0.392902\n",
      "0:\tlearn: 0.0014626\ttest: 0.0025818\tbest: 0.0025818 (0)\ttotal: 298ms\tremaining: 29.5s\n",
      "1:\tlearn: 0.0769231\ttest: 0.0827251\tbest: 0.0827251 (1)\ttotal: 556ms\tremaining: 27.3s\n",
      "2:\tlearn: 0.0861100\ttest: 0.0924066\tbest: 0.0924066 (2)\ttotal: 811ms\tremaining: 26.2s\n",
      "3:\tlearn: 0.2113084\ttest: 0.2059801\tbest: 0.2059801 (3)\ttotal: 1.13s\tremaining: 27.1s\n",
      "4:\tlearn: 0.2344622\ttest: 0.2268417\tbest: 0.2268417 (4)\ttotal: 1.41s\tremaining: 26.7s\n",
      "5:\tlearn: 0.2432399\ttest: 0.2383194\tbest: 0.2383194 (5)\ttotal: 1.69s\tremaining: 26.4s\n",
      "6:\tlearn: 0.2359396\ttest: 0.2272059\tbest: 0.2383194 (5)\ttotal: 1.97s\tremaining: 26.1s\n",
      "7:\tlearn: 0.2419215\ttest: 0.2344777\tbest: 0.2383194 (5)\ttotal: 2.22s\tremaining: 25.6s\n",
      "8:\tlearn: 0.2458431\ttest: 0.2429297\tbest: 0.2429297 (8)\ttotal: 2.49s\tremaining: 25.2s\n",
      "9:\tlearn: 0.2501227\ttest: 0.2445887\tbest: 0.2445887 (9)\ttotal: 2.74s\tremaining: 24.7s\n",
      "10:\tlearn: 0.2529102\ttest: 0.2447653\tbest: 0.2447653 (10)\ttotal: 3.02s\tremaining: 24.4s\n",
      "11:\tlearn: 0.2544386\ttest: 0.2498200\tbest: 0.2498200 (11)\ttotal: 3.24s\tremaining: 23.8s\n",
      "12:\tlearn: 0.2549693\ttest: 0.2426869\tbest: 0.2498200 (11)\ttotal: 3.46s\tremaining: 23.2s\n",
      "13:\tlearn: 0.2576221\ttest: 0.2455004\tbest: 0.2498200 (11)\ttotal: 3.67s\tremaining: 22.5s\n",
      "14:\tlearn: 0.2612734\ttest: 0.2464966\tbest: 0.2498200 (11)\ttotal: 3.87s\tremaining: 21.9s\n",
      "15:\tlearn: 0.2640449\ttest: 0.2495505\tbest: 0.2498200 (11)\ttotal: 4.07s\tremaining: 21.4s\n",
      "16:\tlearn: 0.2628613\ttest: 0.2462983\tbest: 0.2498200 (11)\ttotal: 4.25s\tremaining: 20.8s\n",
      "17:\tlearn: 0.2658197\ttest: 0.2545715\tbest: 0.2545715 (17)\ttotal: 4.51s\tremaining: 20.5s\n",
      "18:\tlearn: 0.2659496\ttest: 0.2542980\tbest: 0.2545715 (17)\ttotal: 5.04s\tremaining: 21.5s\n",
      "19:\tlearn: 0.2696711\ttest: 0.2560801\tbest: 0.2560801 (19)\ttotal: 5.29s\tremaining: 21.2s\n",
      "20:\tlearn: 0.2708715\ttest: 0.2489209\tbest: 0.2560801 (19)\ttotal: 5.58s\tremaining: 21s\n",
      "21:\tlearn: 0.2724609\ttest: 0.2460317\tbest: 0.2560801 (19)\ttotal: 5.83s\tremaining: 20.7s\n",
      "22:\tlearn: 0.2759377\ttest: 0.2517080\tbest: 0.2560801 (19)\ttotal: 6.07s\tremaining: 20.3s\n",
      "23:\tlearn: 0.2757697\ttest: 0.2513504\tbest: 0.2560801 (19)\ttotal: 6.3s\tremaining: 20s\n",
      "24:\tlearn: 0.2762148\ttest: 0.2518892\tbest: 0.2560801 (19)\ttotal: 6.57s\tremaining: 19.7s\n",
      "25:\tlearn: 0.2775073\ttest: 0.2519798\tbest: 0.2560801 (19)\ttotal: 6.88s\tremaining: 19.6s\n",
      "26:\tlearn: 0.2797424\ttest: 0.2538655\tbest: 0.2560801 (19)\ttotal: 7.16s\tremaining: 19.4s\n",
      "27:\tlearn: 0.2798784\ttest: 0.2526089\tbest: 0.2560801 (19)\ttotal: 7.44s\tremaining: 19.1s\n",
      "28:\tlearn: 0.2840208\ttest: 0.2576029\tbest: 0.2576029 (28)\ttotal: 7.7s\tremaining: 18.9s\n",
      "29:\tlearn: 0.2863015\ttest: 0.2604352\tbest: 0.2604352 (29)\ttotal: 7.96s\tremaining: 18.6s\n",
      "30:\tlearn: 0.2861631\ttest: 0.2591931\tbest: 0.2604352 (29)\ttotal: 8.24s\tremaining: 18.4s\n",
      "31:\tlearn: 0.2860251\ttest: 0.2591931\tbest: 0.2604352 (29)\ttotal: 8.5s\tremaining: 18.1s\n",
      "32:\tlearn: 0.2876165\ttest: 0.2545715\tbest: 0.2604352 (29)\ttotal: 8.75s\tremaining: 17.8s\n",
      "33:\tlearn: 0.2879961\ttest: 0.2575107\tbest: 0.2604352 (29)\ttotal: 9s\tremaining: 17.5s\n",
      "34:\tlearn: 0.2881684\ttest: 0.2597217\tbest: 0.2604352 (29)\ttotal: 9.27s\tremaining: 17.2s\n",
      "35:\tlearn: 0.2885174\ttest: 0.2583184\tbest: 0.2604352 (29)\ttotal: 9.52s\tremaining: 16.9s\n",
      "36:\tlearn: 0.2913747\ttest: 0.2632893\tbest: 0.2632893 (36)\ttotal: 9.85s\tremaining: 16.8s\n",
      "37:\tlearn: 0.2944015\ttest: 0.2658589\tbest: 0.2658589 (37)\ttotal: 10.1s\tremaining: 16.5s\n",
      "38:\tlearn: 0.2979543\ttest: 0.2680412\tbest: 0.2680412 (38)\ttotal: 10.4s\tremaining: 16.3s\n",
      "39:\tlearn: 0.3002282\ttest: 0.2661922\tbest: 0.2680412 (38)\ttotal: 10.7s\tremaining: 16s\n",
      "40:\tlearn: 0.2999759\ttest: 0.2663818\tbest: 0.2680412 (38)\ttotal: 11.1s\tremaining: 15.9s\n",
      "41:\tlearn: 0.3032266\ttest: 0.2667141\tbest: 0.2680412 (38)\ttotal: 11.4s\tremaining: 15.8s\n",
      "42:\tlearn: 0.3052758\ttest: 0.2698300\tbest: 0.2698300 (42)\ttotal: 11.7s\tremaining: 15.5s\n",
      "43:\tlearn: 0.3043530\ttest: 0.2695035\tbest: 0.2698300 (42)\ttotal: 12s\tremaining: 15.2s\n",
      "44:\tlearn: 0.3055889\ttest: 0.2707300\tbest: 0.2707300 (44)\ttotal: 12.2s\tremaining: 14.9s\n",
      "45:\tlearn: 0.3068441\ttest: 0.2733711\tbest: 0.2733711 (45)\ttotal: 12.5s\tremaining: 14.7s\n",
      "46:\tlearn: 0.3087795\ttest: 0.2726629\tbest: 0.2733711 (45)\ttotal: 12.7s\tremaining: 14.4s\n",
      "47:\tlearn: 0.3103820\ttest: 0.2752034\tbest: 0.2752034 (47)\ttotal: 13s\tremaining: 14.1s\n",
      "48:\tlearn: 0.3137816\ttest: 0.2813929\tbest: 0.2813929 (48)\ttotal: 13.4s\tremaining: 13.9s\n",
      "49:\tlearn: 0.3144969\ttest: 0.2792824\tbest: 0.2813929 (48)\ttotal: 13.7s\tremaining: 13.7s\n",
      "50:\tlearn: 0.3153754\ttest: 0.2799859\tbest: 0.2813929 (48)\ttotal: 13.9s\tremaining: 13.4s\n",
      "51:\tlearn: 0.3158647\ttest: 0.2797891\tbest: 0.2813929 (48)\ttotal: 14.2s\tremaining: 13.1s\n",
      "52:\tlearn: 0.3155010\ttest: 0.2784810\tbest: 0.2813929 (48)\ttotal: 14.4s\tremaining: 12.8s\n",
      "53:\tlearn: 0.3172069\ttest: 0.2821053\tbest: 0.2821053 (53)\ttotal: 14.6s\tremaining: 12.5s\n",
      "54:\tlearn: 0.3170819\ttest: 0.2810963\tbest: 0.2821053 (53)\ttotal: 14.9s\tremaining: 12.2s\n",
      "55:\tlearn: 0.3170063\ttest: 0.2816011\tbest: 0.2821053 (53)\ttotal: 15.2s\tremaining: 11.9s\n",
      "56:\tlearn: 0.3195717\ttest: 0.2833100\tbest: 0.2833100 (56)\ttotal: 15.5s\tremaining: 11.7s\n",
      "57:\tlearn: 0.3192376\ttest: 0.2821053\tbest: 0.2833100 (56)\ttotal: 15.9s\tremaining: 11.5s\n",
      "58:\tlearn: 0.3200381\ttest: 0.2849142\tbest: 0.2849142 (58)\ttotal: 16.3s\tremaining: 11.3s\n",
      "59:\tlearn: 0.3231483\ttest: 0.2900070\tbest: 0.2900070 (59)\ttotal: 16.6s\tremaining: 11.1s\n",
      "60:\tlearn: 0.3249466\ttest: 0.2916957\tbest: 0.2916957 (60)\ttotal: 16.9s\tremaining: 10.8s\n",
      "61:\tlearn: 0.3239838\ttest: 0.2901084\tbest: 0.2916957 (60)\ttotal: 17.1s\tremaining: 10.5s\n",
      "62:\tlearn: 0.3259786\ttest: 0.2916957\tbest: 0.2916957 (60)\ttotal: 17.5s\tremaining: 10.3s\n",
      "63:\tlearn: 0.3270917\ttest: 0.2906043\tbest: 0.2916957 (60)\ttotal: 17.7s\tremaining: 9.98s\n",
      "64:\tlearn: 0.3278456\ttest: 0.2929892\tbest: 0.2929892 (64)\ttotal: 18s\tremaining: 9.69s\n",
      "65:\tlearn: 0.3286829\ttest: 0.2927849\tbest: 0.2929892 (64)\ttotal: 18.2s\tremaining: 9.39s\n",
      "66:\tlearn: 0.3282488\ttest: 0.2933798\tbest: 0.2933798 (66)\ttotal: 18.5s\tremaining: 9.1s\n",
      "67:\tlearn: 0.3301842\ttest: 0.2942401\tbest: 0.2942401 (67)\ttotal: 18.8s\tremaining: 8.83s\n",
      "68:\tlearn: 0.3308537\ttest: 0.2952414\tbest: 0.2952414 (68)\ttotal: 19.1s\tremaining: 8.56s\n",
      "69:\tlearn: 0.3300260\ttest: 0.2946491\tbest: 0.2952414 (68)\ttotal: 19.4s\tremaining: 8.29s\n",
      "70:\tlearn: 0.3341981\ttest: 0.2987148\tbest: 0.2987148 (70)\ttotal: 19.6s\tremaining: 8.02s\n",
      "71:\tlearn: 0.3343566\ttest: 0.2976356\tbest: 0.2987148 (70)\ttotal: 20s\tremaining: 7.76s\n",
      "72:\tlearn: 0.3352983\ttest: 0.2976356\tbest: 0.2987148 (70)\ttotal: 20.2s\tremaining: 7.46s\n",
      "73:\tlearn: 0.3359660\ttest: 0.2997218\tbest: 0.2997218 (73)\ttotal: 20.4s\tremaining: 7.18s\n",
      "74:\tlearn: 0.3371819\ttest: 0.2981237\tbest: 0.2997218 (73)\ttotal: 20.8s\tremaining: 6.93s\n",
      "75:\tlearn: 0.3360057\ttest: 0.2975322\tbest: 0.2997218 (73)\ttotal: 21.1s\tremaining: 6.65s\n",
      "76:\tlearn: 0.3369912\ttest: 0.2985386\tbest: 0.2997218 (73)\ttotal: 21.3s\tremaining: 6.37s\n",
      "77:\tlearn: 0.3379351\ttest: 0.2962705\tbest: 0.2997218 (73)\ttotal: 21.7s\tremaining: 6.12s\n",
      "78:\tlearn: 0.3378554\ttest: 0.2977391\tbest: 0.2997218 (73)\ttotal: 21.9s\tremaining: 5.83s\n",
      "79:\tlearn: 0.3382110\ttest: 0.3001042\tbest: 0.3001042 (79)\ttotal: 22.2s\tremaining: 5.54s\n",
      "80:\tlearn: 0.3389151\ttest: 0.2992017\tbest: 0.3001042 (79)\ttotal: 22.4s\tremaining: 5.25s\n",
      "81:\tlearn: 0.3411765\ttest: 0.3009339\tbest: 0.3009339 (81)\ttotal: 22.6s\tremaining: 4.96s\n",
      "82:\tlearn: 0.3404406\ttest: 0.3003460\tbest: 0.3009339 (81)\ttotal: 22.9s\tremaining: 4.68s\n",
      "83:\tlearn: 0.3408315\ttest: 0.3009339\tbest: 0.3009339 (81)\ttotal: 23.1s\tremaining: 4.39s\n",
      "84:\tlearn: 0.3452409\ttest: 0.3032191\tbest: 0.3032191 (84)\ttotal: 23.3s\tremaining: 4.12s\n",
      "85:\tlearn: 0.3479892\ttest: 0.3041219\tbest: 0.3041219 (85)\ttotal: 23.6s\tremaining: 3.84s\n",
      "86:\tlearn: 0.3474894\ttest: 0.3051903\tbest: 0.3051903 (86)\ttotal: 23.8s\tremaining: 3.56s\n",
      "87:\tlearn: 0.3481829\ttest: 0.3056708\tbest: 0.3056708 (87)\ttotal: 24.1s\tremaining: 3.28s\n",
      "88:\tlearn: 0.3487636\ttest: 0.3042273\tbest: 0.3056708 (87)\ttotal: 24.3s\tremaining: 3s\n",
      "89:\tlearn: 0.3488345\ttest: 0.3058824\tbest: 0.3058824 (89)\ttotal: 24.5s\tremaining: 2.72s\n",
      "90:\tlearn: 0.3488754\ttest: 0.3058824\tbest: 0.3058824 (89)\ttotal: 24.7s\tremaining: 2.45s\n",
      "91:\tlearn: 0.3485292\ttest: 0.3058824\tbest: 0.3058824 (89)\ttotal: 25s\tremaining: 2.17s\n",
      "92:\tlearn: 0.3496487\ttest: 0.3051903\tbest: 0.3058824 (89)\ttotal: 25.2s\tremaining: 1.9s\n",
      "93:\tlearn: 0.3478465\ttest: 0.3049203\tbest: 0.3058824 (89)\ttotal: 25.4s\tremaining: 1.62s\n",
      "94:\tlearn: 0.3480404\ttest: 0.3046037\tbest: 0.3058824 (89)\ttotal: 25.6s\tremaining: 1.35s\n",
      "95:\tlearn: 0.3477342\ttest: 0.3044383\tbest: 0.3058824 (89)\ttotal: 25.9s\tremaining: 1.08s\n",
      "96:\tlearn: 0.3488263\ttest: 0.3049203\tbest: 0.3058824 (89)\ttotal: 26.1s\tremaining: 808ms\n",
      "97:\tlearn: 0.3490201\ttest: 0.3036395\tbest: 0.3058824 (89)\ttotal: 26.3s\tremaining: 538ms\n",
      "98:\tlearn: 0.3498768\ttest: 0.3020833\tbest: 0.3058824 (89)\ttotal: 26.5s\tremaining: 268ms\n",
      "99:\tlearn: 0.3529274\ttest: 0.3037448\tbest: 0.3058824 (89)\ttotal: 26.8s\tremaining: 0us\n",
      "\n",
      "bestTest = 0.3058823529\n",
      "bestIteration = 89\n",
      "\n",
      "Shrink model to first 90 iterations.\n"
     ]
    },
    {
     "data": {
      "text/plain": [
       "<catboost.core.CatBoostClassifier at 0x28038ce7ee0>"
      ]
     },
     "execution_count": 13,
     "metadata": {},
     "output_type": "execute_result"
    }
   ],
   "source": [
    "model_cb.fit(x_train, y_train, cat_features=cat_feature,plot = True, eval_set = (x_test, y_test))"
   ]
  },
  {
   "cell_type": "code",
   "execution_count": 14,
   "metadata": {},
   "outputs": [],
   "source": [
    "y_pred = model_cb.predict(x_test)"
   ]
  },
  {
   "cell_type": "code",
   "execution_count": 19,
   "metadata": {},
   "outputs": [
    {
     "data": {
      "text/plain": [
       "0.3058823529411765"
      ]
     },
     "metadata": {},
     "output_type": "display_data"
    },
    {
     "data": {
      "text/plain": [
       "0.9869993519118601"
      ]
     },
     "metadata": {},
     "output_type": "display_data"
    }
   ],
   "source": [
    "from sklearn.metrics import f1_score, accuracy_score\n",
    "display(f1_score(y_test, y_pred))\n",
    "display(accuracy_score(y_test, y_pred))"
   ]
  },
  {
   "cell_type": "code",
   "execution_count": 23,
   "metadata": {},
   "outputs": [
    {
     "name": "stdout",
     "output_type": "stream",
     "text": [
      "<function auc at 0x0000028037821CF0>\n"
     ]
    },
    {
     "data": {
      "image/png": "[encoded data removed]",
      "text/plain": [
       "<Figure size 432x288 with 1 Axes>"
      ]
     },
     "metadata": {
      "needs_background": "light"
     },
     "output_type": "display_data"
    }
   ],
   "source": [
    "from sklearn.metrics import auc, roc_curve\n",
    "print(auc)\n",
    "y_pred_prob = model_cb.predict_proba(x_test)[:,1]\n",
    "fpr, tpr, thresholds = roc_curve(y_test, y_pred_prob)\n",
    "plt.plot([0,1],[0,1],\"k--\")\n",
    "plt.plot(fpr,tpr)\n",
    "\n",
    "plt.xlabel('TPR')\n",
    "plt.ylabel('FPR')\n",
    "plt.show()\n",
    "\n"
   ]
  },
  {
   "cell_type": "markdown",
   "id": "c76b3da2",
   "metadata": {},
   "source": [
    "AUC for CatBoost"
   ]
  },
  {
   "cell_type": "code",
   "execution_count": 32,
   "id": "af1b2342",
   "metadata": {},
   "outputs": [
    {
     "name": "stdout",
     "output_type": "stream",
     "text": [
      "AUC_train:0.9178 and AUC_test:0.9045\n"
     ]
    }
   ],
   "source": [
    "y_train_pred = model_cb.predict_proba(x_train)[:,1]\n",
    "y_test_pred  = model_cb.predict_proba(x_test)[:,1]\n",
    "\n",
    "AUC_train = roc_auc_score(y_train, y_train_pred)\n",
    "AUC_test  = roc_auc_score(y_test, y_test_pred)\n",
    "\n",
    "print('AUC_train:{:.4f} and AUC_test:{:.4f}'.format(AUC_train, AUC_test))"
   ]
  },
  {
   "cell_type": "code",
   "execution_count": null,
   "id": "d53f2f8d",
   "metadata": {},
   "outputs": [],
   "source": [
    "xgboost_simple = catboost.CatBoostClassifier()"
   ]
  },
  {
   "cell_type": "raw",
   "id": "b6027bc5",
   "metadata": {},
   "source": [
    "xgboost_model = xgboost.XGBClassifier(learning_rate = 0.1,\n",
    "                                     max_depth = 5,\n",
    "                                     n_estimator = 5000,\n",
    "                                     subsample = 0.5,\n",
    "                                     colsample_bytree = 0.5,\n",
    "                                     eval_metric = 'auc',\n",
    "                                     verbosity = 1)"
   ]
  },
  {
   "cell_type": "code",
   "execution_count": null,
   "id": "4f467f5b",
   "metadata": {},
   "outputs": [],
   "source": [
    "eval_set = [(x_test, y_test)]\n",
    "\n",
    "xgboost_simple.fit(x_train,y_train, early_stopping_rounds = 10, eval_set = eval_set, verbose = True)"
   ]
  },
  {
   "cell_type": "code",
   "execution_count": null,
   "metadata": {},
   "outputs": [],
   "source": []
  },
  {
   "cell_type": "code",
   "execution_count": null,
   "metadata": {},
   "outputs": [],
   "source": []
  },
  {
   "cell_type": "code",
   "execution_count": null,
   "id": "a66578d0",
   "metadata": {},
   "outputs": [],
   "source": []
  },
  {
   "cell_type": "code",
   "execution_count": null,
   "id": "b773772c",
   "metadata": {},
   "outputs": [],
   "source": [
    "sklearn.metrics.precision_recall_curve(y_true, probas_pred, *, pos_label=None, sample_weight=None)"
   ]
  },
  {
   "cell_type": "code",
   "execution_count": null,
   "id": "5ce39c0e",
   "metadata": {},
   "outputs": [],
   "source": [
    "\n",
    "ROC Curve\n",
    "Question: difference between ROC Curve and Confusion metrix\n",
    "PR CURVE\n",
    "Question: differenece between ROC curve and PR Curve\n",
    "function ROC Curve"
   ]
  },
  {
   "cell_type": "code",
   "execution_count": null,
   "id": "6dfc9e37",
   "metadata": {},
   "outputs": [],
   "source": [
    "Question:\n",
    "Feutute Enginerring? We have multiple column for age, income and etc?\n",
    "Correlation?\n",
    "pd.plotting.scatter_matrix(features, c = labels, figsize=[10,10],s=50)  # How?\n",
    "To do: "
   ]
  },
  {
   "cell_type": "code",
   "execution_count": null,
   "id": "916f8564",
   "metadata": {},
   "outputs": [],
   "source": [
    "pd.plotting.scatter_matrix(features, c = labels, figsize=[10,10],s=50)"
   ]
  },
  {
   "cell_type": "code",
   "execution_count": null,
   "metadata": {},
   "outputs": [],
   "source": [
    "\n",
    "What is the \"gradient boosting techniques\"?"
   ]
  },
  {
   "cell_type": "code",
   "execution_count": null,
   "id": "89900ca5",
   "metadata": {},
   "outputs": [],
   "source": [
    "#for multiple modles we need a table for AUC, PR Curve "
   ]
  },
  {
   "cell_type": "code",
   "execution_count": null,
   "id": "e4d7c9b7",
   "metadata": {},
   "outputs": [],
   "source": []
  },
  {
   "cell_type": "code",
   "execution_count": null,
   "id": "a50dd6cc",
   "metadata": {},
   "outputs": [],
   "source": [
    "\n",
    "# evaluate random forest algorithm for classification\n",
    "from numpy import mean\n",
    "from numpy import std\n",
    "from sklearn.datasets import make_classification\n",
    "from sklearn.model_selection import cross_val_score\n",
    "from sklearn.model_selection import RepeatedStratifiedKFold\n",
    "from sklearn.ensemble import RandomForestClassifier\n",
    "# define dataset\n",
    "X, y = make_classification(n_samples=1000, n_features=20, n_informative=15, n_redundant=5, random_state=3)\n",
    "# define the model\n",
    "model = RandomForestClassifier()\n",
    "# evaluate the model\n",
    "cv = RepeatedStratifiedKFold(n_splits=10, n_repeats=3, random_state=1)\n",
    "n_scores = cross_val_score(model, X, y, scoring='accuracy', cv=cv, n_jobs=-1, error_score='raise')\n",
    "# report performance\n",
    "print('Accuracy: %.3f (%.3f)' % (mean(n_scores), std(n_scores)))"
   ]
  },
  {
   "cell_type": "code",
   "execution_count": null,
   "id": "31f245e5",
   "metadata": {},
   "outputs": [],
   "source": [
    "\n",
    "# make predictions using random forest for classification\n",
    "from sklearn.datasets import make_classification\n",
    "from sklearn.ensemble import RandomForestClassifier\n",
    "# define dataset\n",
    "X, y = make_classification(n_samples=20, n_features=20, n_informative=15, n_redundant=5, random_state=3)\n",
    "# define the model\n",
    "model = RandomForestClassifier()\n",
    "# fit the model on the whole dataset\n",
    "model.fit(X, y)\n",
    "# make a single prediction\n",
    "row = [[-8.52381793,5.24451077,-12.14967704,-2.92949242,0.99314133,0.67326595,-0.38657932,1.27955683,-0.60712621,3.20807316,0.60504151,-1.38706415,8.92444588,-7.43027595,-2.33653219,1.10358169,0.21547782,1.05057966,0.6975331,0.26076035]]\n",
    "yhat = model.predict(row)\n",
    "print('Predicted Class: %d' % yhat[0])"
   ]
  },
  {
   "cell_type": "code",
   "execution_count": null,
   "id": "institutional-cycle",
   "metadata": {},
   "outputs": [],
   "source": [
    "#Load Required librarys\n",
    "import sklearn "
   ]
  },
  {
   "cell_type": "code",
   "execution_count": null,
   "id": "reflected-honey",
   "metadata": {},
   "outputs": [],
   "source": [
    "#train model 1"
   ]
  },
  {
   "cell_type": "code",
   "execution_count": null,
   "id": "caring-copper",
   "metadata": {},
   "outputs": [],
   "source": [
    "#Test model 1"
   ]
  },
  {
   "cell_type": "code",
   "execution_count": null,
   "id": "adapted-transfer",
   "metadata": {},
   "outputs": [],
   "source": [
    "#evaluate model 1"
   ]
  },
  {
   "cell_type": "code",
   "execution_count": null,
   "id": "final-vatican",
   "metadata": {},
   "outputs": [],
   "source": [
    "pwd"
   ]
  },
  {
   "cell_type": "markdown",
   "id": "27ae3920",
   "metadata": {},
   "source": [
    "Misc"
   ]
  },
  {
   "cell_type": "code",
   "execution_count": null,
   "id": "fd9fe4e8",
   "metadata": {},
   "outputs": [],
   "source": [
    "# sns.set_style(\"whitegrid\")\n",
    "sns.set(rc={\"figure.figsize\":(10, 10)})\n",
    "sns.set_style(\"darkgrid\", {\"grid.color\": \".6\", \"grid.linestyle\": \":\"})\n",
    "ax = sns.boxplot( y=app_rec[\"AMT_INCOME_TOTAL\"] )\n",
    "ax.set(xlabel='Income', ylabel='Dollar Value')\n",
    "\n"
   ]
  },
  {
   "cell_type": "code",
   "execution_count": null,
   "id": "d58b5c1a",
   "metadata": {},
   "outputs": [],
   "source": [
    "# No need to create Bucket. It is better to keep it as numeric.\n",
    "# Create 8 different bucket of Ages\n",
    "# bins = [0, 20, 25,30,45,55,60, 65, 70]\n",
    "# labels = [1,2,3,4,5,6,7,8]\n",
    "# app_rec['AGE_BUKET'] = pd.cut(app_rec['AGE'], bins,labels=labels)\n",
    "# app_rec['AGE_BUKET']"
   ]
  },
  {
   "cell_type": "code",
   "execution_count": null,
   "id": "typical-pennsylvania",
   "metadata": {},
   "outputs": [],
   "source": [
    "# Create Count of Children bucket based on CNT_CHILDREN\n",
    "# app_rec.CNT_CHILDREN.value_counts()"
   ]
  },
  {
   "cell_type": "code",
   "execution_count": null,
   "id": "aa22118c",
   "metadata": {},
   "outputs": [],
   "source": []
  },
  {
   "cell_type": "code",
   "execution_count": null,
   "id": "094d6e68",
   "metadata": {},
   "outputs": [],
   "source": []
  },
  {
   "cell_type": "code",
   "execution_count": null,
   "id": "094cebf2",
   "metadata": {},
   "outputs": [],
   "source": []
  },
  {
   "cell_type": "code",
   "execution_count": null,
   "id": "d13e688e",
   "metadata": {},
   "outputs": [],
   "source": [
    "# It Seems we have imbalanced data. What will be the next step to address this situation and avoid consequential issues? Question from Saeed: What should I do in this situation?\n",
    "# Note from Saeed: the imbalance is a problem for label, not for features!"
   ]
  },
  {
   "cell_type": "code",
   "execution_count": null,
   "id": "33fee4e6",
   "metadata": {},
   "outputs": [],
   "source": [
    "# # should be changed to number\n",
    "# app_rec.CNT_CHILDREN_BUCKET = app_rec.CNT_CHILDREN\n",
    "# def conditions(i): \n",
    "#     if i ==0 : return '0'\n",
    "#     if i ==1 : return \"1\"\n",
    "#     if i ==2 : return '2'\n",
    "#     if i ==3 : return '3'\n",
    "#     if i ==4 : return '4'\n",
    "#     if i >= 5: return '5'\n",
    "\n",
    "# app_rec['CNT_CHILDREN_BUCKET']=app_rec['CNT_CHILDREN'].apply(conditions)\n"
   ]
  },
  {
   "cell_type": "code",
   "execution_count": null,
   "id": "6b9b66de",
   "metadata": {},
   "outputs": [],
   "source": [
    "cre_rec.STATUS.unique()\n",
    "# 0: 1-29 days past due \n",
    "# 1: 30-59 days past due \n",
    "# 2: 60-89 days overdue \n",
    "# 3: 90-119 days overdue \n",
    "# 4: 120-149 days overdue \n",
    "# 5: Overdue or bad debts, write-offs for more than 150 days \n",
    "# C: paid off that month \n",
    "# X: No loan for the month"
   ]
  },
  {
   "cell_type": "code",
   "execution_count": null,
   "id": "f22ef2cf",
   "metadata": {},
   "outputs": [],
   "source": [
    "CID = \"5001757\"\n",
    "TID = -7\n",
    "WL = 4\n",
    "\n",
    "D_LABEL_AT_WL = list(cre_rec.loc[(cre_rec['ID'] == CID) & (cre_rec['MONTHS_BALANCE'] == (TID + WL)), 'BINARY_STATUS'])[0]\n",
    "D_LABEL_AT_WL"
   ]
  },
  {
   "cell_type": "code",
   "execution_count": null,
   "id": "08c7f5ec",
   "metadata": {},
   "outputs": [],
   "source": [
    "CID = \"5001757\"\n",
    "TID = -8\n",
    "Tlag = 4\n",
    "\n",
    "LABEL        = list(cre_rec.loc[(cre_rec[\"ID\"] == CID) & (cre_rec[\"MONTHS_BALANCE\"] == (TID+Tlag)), \"BINARY_STATUS\"])[0]\n",
    "LABEL"
   ]
  },
  {
   "cell_type": "code",
   "execution_count": null,
   "id": "1e03eb3d",
   "metadata": {},
   "outputs": [],
   "source": [
    "from zipfile import LargeZipFile\n",
    "\n",
    "\n",
    "Questions:\n",
    "for loop for 0-12 month LargeZipFile\n",
    "lets change some of the variables"
   ]
  },
  {
   "cell_type": "code",
   "execution_count": null,
   "id": "da9c1739",
   "metadata": {},
   "outputs": [],
   "source": [
    "%%time\n",
    "mydf = pd.DataFrame({\"ID\":[],\"COUNT\":[]})\n",
    "myIDs = cre_rec.ID.unique()\n",
    "for i in myIDs:\n",
    "    count = cre_rec.loc[cre_rec[\"ID\"]==i, \"ID\"].count()\n",
    "    new_row = pd.DataFrame({\"ID\":[i], \"COUNT\":[count]})\n",
    "    mydf = mydf.append(new_row)\n"
   ]
  },
  {
   "cell_type": "code",
   "execution_count": null,
   "id": "a6b80922",
   "metadata": {},
   "outputs": [],
   "source": [
    "# Home Work 2 - \n",
    "from telnetlib import STATUS\n",
    "from typing import Counter\n",
    "\n",
    "\n",
    "Average\n",
    "Count - Age of the account\n",
    "Mean \n",
    "Max\n",
    "\n",
    "\n",
    "Current STATUS\n",
    "Window Length (6 & 12 Months)\n"
   ]
  },
  {
   "cell_type": "code",
   "execution_count": null,
   "id": "27c94251",
   "metadata": {},
   "outputs": [],
   "source": [
    "# # Use numpy to convert to arrays\n",
    "# import numpy as np\n",
    "# # Labels are the values we want to predict\n",
    "# labels = np.array(data['LABEL'])\n",
    "# # Remove the labels from the features\n",
    "# # axis 1 refers to the columns\n",
    "# features= data.drop([ 'LABEL'], axis = 1)\n",
    "# # Saving feature names for later use\n",
    "# feature_list = list(features.columns)\n",
    "# # Convert to numpy array\n",
    "# features = np.array(features)"
   ]
  },
  {
   "cell_type": "code",
   "execution_count": null,
   "id": "78feda98",
   "metadata": {},
   "outputs": [],
   "source": [
    "app_rec = pd.read_csv(r'C:\\Users\\shaha\\OneDrive\\Documents\\credit_score\\application_record.csv')"
   ]
  },
  {
   "cell_type": "code",
   "execution_count": null,
   "id": "79360f52",
   "metadata": {},
   "outputs": [],
   "source": [
    "# Test\n",
    "\n",
    "def resumetable(df):\n",
    "    print(f\"shape:\", {df.shape})\n",
    "    summary = pd.DataFrame(df.dtypes,columns= ['dtypes'])\n",
    "    summary = summary.reset_index()\n",
    "    summary['Name'] = summary['index']\n",
    "    summary = summary[['Name', 'dtypes']]\n",
    "    summary[\"Unique\"] = df.nunique().values\n",
    "    summary['missing'] = df.isnull().sum().values\n",
    "    summary['first Value'] = df.loc[0].values\n",
    "    summary['Second Value'] = df.loc[1].values\n",
    "    return summary\n",
    "\n",
    "result = resumetable(app_rec)\n",
    "result"
   ]
  },
  {
   "cell_type": "code",
   "execution_count": null,
   "id": "8065565e",
   "metadata": {},
   "outputs": [],
   "source": []
  }
 ],
 "metadata": {
  "kernelspec": {
   "display_name": "Python 3.10.5 64-bit (windows store)",
   "language": "python",
   "name": "python3"
  },
  "language_info": {
   "codemirror_mode": {
    "name": "ipython",
    "version": 3
   },
   "file_extension": ".py",
   "mimetype": "text/x-python",
   "name": "python",
   "nbconvert_exporter": "python",
   "pygments_lexer": "ipython3",
   "version": "3.10.7"
  },
  "vscode": {
   "interpreter": {
    "hash": "a9c4a9667516ab3510cdc69a21f03234607c83b7b3f032001b192581638fb31e"
   }
  }
 },
 "nbformat": 4,
 "nbformat_minor": 5
}
